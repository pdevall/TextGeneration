{
  "nbformat": 4,
  "nbformat_minor": 0,
  "metadata": {
    "colab": {
      "name": "CharacterLevelModelTextGeneration.ipynb",
      "provenance": [],
      "collapsed_sections": [],
      "mount_file_id": "1PUPZYXxI0sM4ckg51x51Tx62qVNO5QKI",
      "authorship_tag": "ABX9TyNvAlXHhRoPVQOmOUDKcOhm",
      "include_colab_link": true
    },
    "kernelspec": {
      "name": "python3",
      "display_name": "Python 3"
    }
  },
  "cells": [
    {
      "cell_type": "markdown",
      "metadata": {
        "id": "view-in-github",
        "colab_type": "text"
      },
      "source": [
        "<a href=\"https://colab.research.google.com/github/pdevall/TextGeneration/blob/master/CharacterLevelModelTextGeneration.ipynb\" target=\"_parent\"><img src=\"https://colab.research.google.com/assets/colab-badge.svg\" alt=\"Open In Colab\"/></a>"
      ]
    },
    {
      "cell_type": "code",
      "metadata": {
        "id": "nf2L7bMoOGp7",
        "colab_type": "code",
        "colab": {}
      },
      "source": [
        "import numpy as np\n",
        "import tensorflow as tf\n",
        "from tensorflow import keras\n"
      ],
      "execution_count": 0,
      "outputs": []
    },
    {
      "cell_type": "markdown",
      "metadata": {
        "id": "6qmjFQXys6Jw",
        "colab_type": "text"
      },
      "source": [
        "Load the Data and set max_len of the word and get the number of samples. Shuffle the samples"
      ]
    },
    {
      "cell_type": "code",
      "metadata": {
        "id": "1WzHKLWTOqjw",
        "colab_type": "code",
        "colab": {}
      },
      "source": [
        "datasetNPARRAY = np.loadtxt(\"/content/drive/My Drive/Colab Notebooks/CharacterLevelLanguageModel/dinos.txt\", dtype=\"str\")\n",
        "np.random.shuffle(datasetNPARRAY)\n",
        "print(datasetNPARRAY)\n",
        "max_length = max(len(x) for x in datasetNPARRAY)\n",
        "print(max_length)\n",
        "m = len(datasetNPARRAY)\n",
        "print(m)\n"
      ],
      "execution_count": 0,
      "outputs": []
    },
    {
      "cell_type": "markdown",
      "metadata": {
        "id": "JXHqJLE9tIfv",
        "colab_type": "text"
      },
      "source": [
        "Create Vocabulary with the unique characters from the text file\n",
        "Create char to index: for each character mapped to index\n",
        "Create index to char: reverse of char to index\n",
        "We will be adding new line to the vocabulary."
      ]
    },
    {
      "cell_type": "code",
      "metadata": {
        "id": "GWwFHxxVOtGv",
        "colab_type": "code",
        "colab": {}
      },
      "source": [
        "vocabulary = set(char for word in datasetNPARRAY.tolist() for char in word.lower())\n",
        "vocabulary.add(\"\\n\")\n",
        "char_to_index = {k: v for v, k in enumerate(sorted(vocabulary))}\n",
        "print(char_to_index)\n",
        "index_to_char = dict(map(reversed, char_to_index.items()))\n",
        "print(index_to_char)\n",
        "vocab_size = len(vocabulary)\n",
        "print(vocab_size)\n"
      ],
      "execution_count": 0,
      "outputs": []
    },
    {
      "cell_type": "markdown",
      "metadata": {
        "id": "b7yV6-xQu02J",
        "colab_type": "text"
      },
      "source": [
        "Create X our input data with the shape m: number of samples max_length: max length of the word in the file, vocab_size: the vocabulary size and initiate with zeros.\n",
        "Same with our labels Y\n",
        "Loop through the words and characters to create a one hot matrix for X and Y Y will be one position shift to the left."
      ]
    },
    {
      "cell_type": "code",
      "metadata": {
        "id": "F19XBalsPfvp",
        "colab_type": "code",
        "colab": {}
      },
      "source": [
        "X = np.zeros((m, max_length, vocab_size))\n",
        "Y = np.zeros((m, max_length, vocab_size))\n",
        "for wordCount in range(len(datasetNPARRAY)):\n",
        "  word = datasetNPARRAY[wordCount].lower()\n",
        "  for charCount in range(len(word)):\n",
        "    char = word[charCount]\n",
        "    X[wordCount, charCount, char_to_index[char]] = 1\n",
        "    if charCount < len(word)-1:\n",
        "      Y[wordCount, charCount, char_to_index[word[charCount+1]]]= 1\n",
        "print(X.shape)\n",
        "print(Y.shape)"
      ],
      "execution_count": 0,
      "outputs": []
    },
    {
      "cell_type": "markdown",
      "metadata": {
        "id": "ULJatdJ6vZbe",
        "colab_type": "text"
      },
      "source": [
        "Build the model. Here we will use LSTM and Dense with softmatrix. No Embedding layer."
      ]
    },
    {
      "cell_type": "code",
      "metadata": {
        "id": "-DhCtTSkouvr",
        "colab_type": "code",
        "colab": {}
      },
      "source": [
        "def build_model(vocab_size, rnn_units):\n",
        "  model = keras.models.Sequential()\n",
        "  model.add(keras.layers.LSTM(rnn_units, return_sequences=True, input_shape=(max_length, vocab_size)))\n",
        "  model.add(keras.layers.Dense(vocab_size,  activation='softmax'))\n",
        "  return model"
      ],
      "execution_count": 0,
      "outputs": []
    },
    {
      "cell_type": "code",
      "metadata": {
        "id": "yhQX9IyItagU",
        "colab_type": "code",
        "colab": {}
      },
      "source": [
        "model = build_model(vocab_size, rnn_units=128)\n",
        "model.summary()"
      ],
      "execution_count": 0,
      "outputs": []
    },
    {
      "cell_type": "code",
      "metadata": {
        "id": "YG5HP9A6tnBl",
        "colab_type": "code",
        "colab": {}
      },
      "source": [
        "def loss(labels, logits):\n",
        "  return tf.keras.losses.categorical_crossentropy(labels, logits, from_logits=True)"
      ],
      "execution_count": 0,
      "outputs": []
    },
    {
      "cell_type": "code",
      "metadata": {
        "id": "iVwCMwMgulJd",
        "colab_type": "code",
        "colab": {}
      },
      "source": [
        "model.compile(optimizer='adam', loss='categorical_crossentropy')"
      ],
      "execution_count": 0,
      "outputs": []
    },
    {
      "cell_type": "code",
      "metadata": {
        "id": "E2SjC5VsuoXi",
        "colab_type": "code",
        "colab": {}
      },
      "source": [
        "def generate_name(model):\n",
        "  name = []\n",
        "  sequence = np.random.randint(1, 26)\n",
        "  x = np.zeros((1, max_length, vocab_size))\n",
        "  x[0, 0, sequence] = 1\n",
        "  temperature  = 1.0\n",
        "  for i in range(13):\n",
        "    predictions = list(model.predict(x)[0,i])\n",
        "    predictions = predictions / np.sum(predictions)\n",
        "    index = np.random.choice(range(vocab_size), p=predictions)\n",
        "    char = index_to_char[index]\n",
        "    x = np.zeros((1, max_length, vocab_size))\n",
        "    x[0, i+1, index]=1\n",
        "    name.append(char)\n",
        "  print(''.join(name))"
      ],
      "execution_count": 0,
      "outputs": []
    },
    {
      "cell_type": "markdown",
      "metadata": {
        "id": "aaMs9cJLvjQl",
        "colab_type": "text"
      },
      "source": [
        "After few runs\n",
        "The generated text will be something like \n",
        "etasaatosanus<br>\n",
        "rinauanosalus<br>\n",
        "aganuatosalus<br>\n",
        "\n",
        "most of the world end with \"us\""
      ]
    },
    {
      "cell_type": "code",
      "metadata": {
        "id": "7xaqVAHkuxHU",
        "colab_type": "code",
        "colab": {}
      },
      "source": [
        "def generate_name_loop(epoch, _):\n",
        "  if epoch % 25 == 0:        \n",
        "    print('Names generated after epoch %d:' % epoch)\n",
        "    for i in range(3):\n",
        "      generate_name(model)\n",
        "        \n",
        "    print()\n",
        "\n",
        "name_generator = keras.callbacks.LambdaCallback(on_epoch_end = generate_name_loop)\n",
        "\n",
        "model.fit(X, Y, epochs=405, callbacks=[name_generator], verbose=1)\n"
      ],
      "execution_count": 0,
      "outputs": []
    },
    {
      "cell_type": "code",
      "metadata": {
        "id": "lt5VVS2rxvC5",
        "colab_type": "code",
        "colab": {}
      },
      "source": [
        ""
      ],
      "execution_count": 0,
      "outputs": []
    }
  ]
}