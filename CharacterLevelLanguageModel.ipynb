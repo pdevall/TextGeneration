{
  "nbformat": 4,
  "nbformat_minor": 0,
  "metadata": {
    "colab": {
      "name": "CharacterLevelLanguageModel.ipynb",
      "provenance": [],
      "collapsed_sections": [],
      "toc_visible": true,
      "mount_file_id": "1tA47w2h0hgHgPwE5B_af_0X9xWubidv_",
      "authorship_tag": "ABX9TyOtqj+DsnEo1H0HPy4oPimQ",
      "include_colab_link": true
    },
    "kernelspec": {
      "name": "python3",
      "display_name": "Python 3"
    }
  },
  "cells": [
    {
      "cell_type": "markdown",
      "metadata": {
        "id": "view-in-github",
        "colab_type": "text"
      },
      "source": [
        "<a href=\"https://colab.research.google.com/github/pdevall/TextGeneration/blob/master/CharacterLevelLanguageModel.ipynb\" target=\"_parent\"><img src=\"https://colab.research.google.com/assets/colab-badge.svg\" alt=\"Open In Colab\"/></a>"
      ]
    },
    {
      "cell_type": "code",
      "metadata": {
        "id": "U8HTSKYnVogJ",
        "colab_type": "code",
        "colab": {}
      },
      "source": [
        "import numpy as np\n",
        "import tensorflow as tf\n",
        "from tensorflow import keras"
      ],
      "execution_count": 0,
      "outputs": []
    },
    {
      "cell_type": "markdown",
      "metadata": {
        "id": "Lrzk9mJUXvgS",
        "colab_type": "text"
      },
      "source": [
        "Load Data using numpy. Get the Max length of the word in the file. The Max length will be used to pad the sequences after tokenization\n",
        "\n"
      ]
    },
    {
      "cell_type": "code",
      "metadata": {
        "id": "n0TXqH7nYDEn",
        "colab_type": "code",
        "colab": {}
      },
      "source": [
        "datasetNPARRAY = np.loadtxt(\"/content/drive/My Drive/Colab Notebooks/CharacterLevelLanguageModel/dinos.txt\", dtype=\"str\")\n",
        "print(datasetNPARRAY)\n",
        "max_length = max(len(x) for x in datasetNPARRAY )\n",
        "print(max_length)"
      ],
      "execution_count": 0,
      "outputs": []
    },
    {
      "cell_type": "markdown",
      "metadata": {
        "id": "kHMc3F1xdvEI",
        "colab_type": "text"
      },
      "source": [
        "Using Keras Tokenizer to tokenize the words loaded from file at the chracter level."
      ]
    },
    {
      "cell_type": "code",
      "metadata": {
        "id": "mpHlOf0IYMOq",
        "colab_type": "code",
        "colab": {}
      },
      "source": [
        "tokenizer = tf.keras.preprocessing.text.Tokenizer(\n",
        "    num_words=len(datasetNPARRAY),\n",
        "    filters='!\"#$%&()*+,-./:;<=>?@[\\\\]^_`{|}~\\t\\n',\n",
        "    lower=True,\n",
        "    char_level=True,\n",
        "    document_count=0\n",
        ")    "
      ],
      "execution_count": 0,
      "outputs": []
    },
    {
      "cell_type": "markdown",
      "metadata": {
        "id": "H70T1Mqwd8JK",
        "colab_type": "text"
      },
      "source": [
        "Tokenizer fit_on_texts will create a vocabulary. texts_to_sequences will generate the char to sequence in the vocabulary."
      ]
    },
    {
      "cell_type": "code",
      "metadata": {
        "id": "2LEIKXdgnVoS",
        "colab_type": "code",
        "colab": {}
      },
      "source": [
        "tokenizer.fit_on_texts(datasetNPARRAY)\n",
        "sequences = tokenizer.texts_to_sequences(datasetNPARRAY)\n",
        "vocab_size = len(tokenizer.word_index) + 1\n",
        "print(tokenizer.word_index)\n",
        "print(vocab_size)\n"
      ],
      "execution_count": 0,
      "outputs": []
    },
    {
      "cell_type": "markdown",
      "metadata": {
        "id": "UU2NEd_lkqVO",
        "colab_type": "text"
      },
      "source": [
        "Shuffle input, shift 1 place right for Y_sequences."
      ]
    },
    {
      "cell_type": "code",
      "metadata": {
        "id": "ZkpEgx1JrzYr",
        "colab_type": "code",
        "colab": {}
      },
      "source": [
        "sequences = keras.preprocessing.sequence.pad_sequences(sequences, maxlen=max_length,  padding='post', value=0)\n",
        "x_sequences = np.reshape(sequences, (sequences.shape[0], sequences.shape[1], 1))\n",
        "np.random.shuffle(x_sequences)\n",
        "y_sequences = np.reshape(sequences, (x_sequences.shape[0], x_sequences.shape[1]))\n",
        "y_sequences = np.roll(y_sequences, 1, axis=1)\n",
        "y_sequences[:,0] = 0\n",
        "print(x_sequences)\n",
        "print(y_sequences)"
      ],
      "execution_count": 0,
      "outputs": []
    },
    {
      "cell_type": "code",
      "metadata": {
        "id": "qsvNfLGmvk7I",
        "colab_type": "code",
        "colab": {}
      },
      "source": [
        "def build_model(vocab_size, embedding_dim, rnn_units):\n",
        "  model = keras.models.Sequential()\n",
        "  #model.add(keras.layers.Embedding(vocab_size, embedding_dim, input_length=batch_size))\n",
        "  model.add(keras.layers.LSTM(rnn_units, return_sequences=True, recurrent_initializer='glorot_uniform', input_shape=(x_sequences.shape[1], x_sequences.shape[2])))\n",
        "  model.add(keras.layers.Dense(vocab_size,  activation='softmax'))\n",
        "  return model"
      ],
      "execution_count": 0,
      "outputs": []
    },
    {
      "cell_type": "code",
      "metadata": {
        "id": "WkCHV0-8I5lh",
        "colab_type": "code",
        "colab": {}
      },
      "source": [
        "model = build_model(vocab_size, embedding_dim=4, rnn_units=128)\n",
        "model.summary()"
      ],
      "execution_count": 0,
      "outputs": []
    },
    {
      "cell_type": "code",
      "metadata": {
        "id": "TFk-Qfo4JCYk",
        "colab_type": "code",
        "colab": {}
      },
      "source": [
        "def loss(labels, logits):\n",
        "  return tf.keras.losses.sparse_categorical_crossentropy(labels, logits, from_logits=True)"
      ],
      "execution_count": 0,
      "outputs": []
    },
    {
      "cell_type": "code",
      "metadata": {
        "id": "cV3q0CXPLNDY",
        "colab_type": "code",
        "colab": {}
      },
      "source": [
        "model.compile(optimizer='adam', loss=loss)"
      ],
      "execution_count": 0,
      "outputs": []
    },
    {
      "cell_type": "code",
      "metadata": {
        "id": "Z-W8rNFILQQL",
        "colab_type": "code",
        "colab": {}
      },
      "source": [
        "# Directory where the checkpoints will be saved\n",
        "checkpoint_dir = '/content/drive/My Drive/Colab Notebooks/CharacterLevelLanguageModel/'\n",
        "# Name of the checkpoint files\n",
        "checkpoint_prefix = checkpoint_dir + \"weights-improvement.hdf5\"\n",
        "\n",
        "checkpoint_callback=keras.callbacks.ModelCheckpoint(\n",
        "    filepath=checkpoint_prefix,\n",
        "    save_weights_only=True)\n",
        "\n",
        "history = model.fit(x_sequences, y_sequences, epochs=200, callbacks=[checkpoint_callback])"
      ],
      "execution_count": 0,
      "outputs": []
    },
    {
      "cell_type": "code",
      "metadata": {
        "id": "aWWnyuLuLkFp",
        "colab_type": "code",
        "colab": {}
      },
      "source": [
        "model = build_model(vocab_size, 4, 128)\n",
        "\n",
        "model.load_weights(checkpoint_prefix)\n",
        "\n",
        "model.build(tf.TensorShape([1, ]))\n",
        "\n",
        "def generate_text(model, start_char):\n",
        "  # Evaluation step (generating text using the learned model)\n",
        "\n",
        "  # Number of characters to generate\n",
        "  num_generate = 15\n",
        "\n",
        "  # Converting our start string to numbers (vectorizing)\n",
        "  input_eval = tokenizer.texts_to_sequences(start_char)\n",
        "  input_eval = tf.expand_dims(input_eval, 0)\n",
        "  print(input_eval)\n",
        "\n",
        "  # Empty string to store our results\n",
        "  text_generated = []\n",
        "\n",
        "  # Low temperatures results in more predictable text.\n",
        "  # Higher temperatures results in more surprising text.\n",
        "  # Experiment to find the best setting.\n",
        "  temperature = 1.0\n",
        "\n",
        "  # Here batch size == 1\n",
        "  model.reset_states()\n",
        "  for i in range(num_generate):\n",
        "      predictions = model(input_eval)\n",
        "      # remove the batch dimension\n",
        "      predictions = tf.squeeze(predictions, 0)\n",
        "\n",
        "      # using a categorical distribution to predict the character returned by the model\n",
        "      predictions = predictions / temperature\n",
        "      predicted_id = tf.random.categorical(predictions, num_samples=1)[-1,0].numpy()\n",
        "      # We pass the predicted character as the next input to the model\n",
        "      # along with the previous hidden state\n",
        "      input_eval = tf.expand_dims([predicted_id], 0)\n",
        "      predictedChar = ''.join([str(elem) for elem in tokenizer.sequences_to_texts([[predicted_id]])])\n",
        "      text_generated.append(predictedChar)\n",
        "     # text_generated.append(str(tokenizer.sequences_to_texts([[predicted_id]])))\n",
        "  return (start_char + ''.join(text_generated))"
      ],
      "execution_count": 0,
      "outputs": []
    },
    {
      "cell_type": "code",
      "metadata": {
        "id": "VV4NVY4IRgJN",
        "colab_type": "code",
        "colab": {}
      },
      "source": [
        "for i in range(12):\n",
        "  randomNum = np.random.randint(1, 27)\n",
        "  character=''\n",
        "  for char, sequence in tokenizer.word_index.items(): \n",
        "    if sequence == randomNum:\n",
        "      character = char\n",
        "  print(generate_text(model, start_char=character))\n"
      ],
      "execution_count": 0,
      "outputs": []
    },
    {
      "cell_type": "code",
      "metadata": {
        "id": "HogNmMMNNvt2",
        "colab_type": "code",
        "colab": {}
      },
      "source": [
        ""
      ],
      "execution_count": 0,
      "outputs": []
    }
  ]
}