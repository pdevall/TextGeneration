{
  "nbformat": 4,
  "nbformat_minor": 0,
  "metadata": {
    "colab": {
      "name": "CharacterLevelLanguageModel.ipynb",
      "provenance": [],
      "collapsed_sections": [],
      "toc_visible": true,
      "mount_file_id": "1tA47w2h0hgHgPwE5B_af_0X9xWubidv_",
      "authorship_tag": "ABX9TyOtqj+DsnEo1H0HPy4oPimQ",
      "include_colab_link": true
    },
    "kernelspec": {
      "name": "python3",
      "display_name": "Python 3"
    }
  },
  "cells": [
    {
      "cell_type": "markdown",
      "metadata": {
        "id": "view-in-github",
        "colab_type": "text"
      },
      "source": [
        "<a href=\"https://colab.research.google.com/github/pdevall/TextGeneration/blob/master/CharacterLevelLanguageModel.ipynb\" target=\"_parent\"><img src=\"https://colab.research.google.com/assets/colab-badge.svg\" alt=\"Open In Colab\"/></a>"
      ]
    },
    {
      "cell_type": "code",
      "metadata": {
        "id": "U8HTSKYnVogJ",
        "colab_type": "code",
        "colab": {}
      },
      "source": [
        "import numpy as np\n",
        "import tensorflow as tf\n",
        "from tensorflow import keras"
      ],
      "execution_count": 0,
      "outputs": []
    },
    {
      "cell_type": "markdown",
      "metadata": {
        "id": "Lrzk9mJUXvgS",
        "colab_type": "text"
      },
      "source": [
        "Load Data using numpy. Get the Max length of the word in the file. The Max length will be used to pad the sequences after tokenization\n",
        "\n"
      ]
    },
    {
      "cell_type": "code",
      "metadata": {
        "id": "n0TXqH7nYDEn",
        "colab_type": "code",
        "outputId": "d2b27d5b-74b2-4da7-ca9e-87fa1ffa7424",
        "colab": {
          "base_uri": "https://localhost:8080/",
          "height": 68
        }
      },
      "source": [
        "datasetNPARRAY = np.loadtxt(\"/content/drive/My Drive/Colab Notebooks/CharacterLevelLanguageModel/dinos.txt\", dtype=\"str\")\n",
        "print(datasetNPARRAY)\n",
        "max_length = max(len(x) for x in datasetNPARRAY )\n",
        "print(max_length)"
      ],
      "execution_count": 3,
      "outputs": [
        {
          "output_type": "stream",
          "text": [
            "['Aachenosaurus' 'Aardonyx' 'Abdallahsaurus' ... 'Zuoyunlong'\n",
            " 'Zupaysaurus' 'Zuul']\n",
            "26\n"
          ],
          "name": "stdout"
        }
      ]
    },
    {
      "cell_type": "markdown",
      "metadata": {
        "id": "kHMc3F1xdvEI",
        "colab_type": "text"
      },
      "source": [
        "Using Keras Tokenizer to tokenize the words loaded from file at the chracter level."
      ]
    },
    {
      "cell_type": "code",
      "metadata": {
        "id": "mpHlOf0IYMOq",
        "colab_type": "code",
        "colab": {}
      },
      "source": [
        "tokenizer = tf.keras.preprocessing.text.Tokenizer(\n",
        "    num_words=len(datasetNPARRAY),\n",
        "    filters='!\"#$%&()*+,-./:;<=>?@[\\\\]^_`{|}~\\t\\n',\n",
        "    lower=True,\n",
        "    char_level=True,\n",
        "    document_count=0\n",
        ")    "
      ],
      "execution_count": 0,
      "outputs": []
    },
    {
      "cell_type": "markdown",
      "metadata": {
        "id": "H70T1Mqwd8JK",
        "colab_type": "text"
      },
      "source": [
        "Tokenizer fit_on_texts will create a vocabulary. texts_to_sequences will generate the char to sequence in the vocabulary."
      ]
    },
    {
      "cell_type": "code",
      "metadata": {
        "id": "2LEIKXdgnVoS",
        "colab_type": "code",
        "outputId": "8444dd12-df31-49b7-942f-feb5d37332c0",
        "colab": {
          "base_uri": "https://localhost:8080/",
          "height": 71
        }
      },
      "source": [
        "tokenizer.fit_on_texts(datasetNPARRAY)\n",
        "sequences = tokenizer.texts_to_sequences(datasetNPARRAY)\n",
        "vocab_size = len(tokenizer.word_index) + 1\n",
        "print(tokenizer.word_index)\n",
        "print(vocab_size)\n"
      ],
      "execution_count": 5,
      "outputs": [
        {
          "output_type": "stream",
          "text": [
            "{'a': 1, 's': 2, 'u': 3, 'o': 4, 'r': 5, 'n': 6, 'i': 7, 'e': 8, 't': 9, 'l': 10, 'p': 11, 'h': 12, 'c': 13, 'g': 14, 'd': 15, 'm': 16, 'y': 17, 'b': 18, 'k': 19, 'v': 20, 'x': 21, 'z': 22, 'j': 23, 'w': 24, 'f': 25, 'q': 26}\n",
            "27\n"
          ],
          "name": "stdout"
        }
      ]
    },
    {
      "cell_type": "markdown",
      "metadata": {
        "id": "UU2NEd_lkqVO",
        "colab_type": "text"
      },
      "source": [
        "Shuffle input, shift 1 place right for Y_sequences."
      ]
    },
    {
      "cell_type": "code",
      "metadata": {
        "id": "ZkpEgx1JrzYr",
        "colab_type": "code",
        "outputId": "316b9180-fef1-4a55-e150-9897522b4dd1",
        "colab": {
          "base_uri": "https://localhost:8080/",
          "height": 969
        }
      },
      "source": [
        "sequences = keras.preprocessing.sequence.pad_sequences(sequences, maxlen=max_length,  padding='post', value=0)\n",
        "x_sequences = np.reshape(sequences, (sequences.shape[0], sequences.shape[1], 1))\n",
        "np.random.shuffle(x_sequences)\n",
        "y_sequences = np.reshape(sequences, (x_sequences.shape[0], x_sequences.shape[1]))\n",
        "y_sequences = np.roll(y_sequences, 1, axis=1)\n",
        "y_sequences[:,0] = 0\n",
        "print(x_sequences)\n",
        "print(y_sequences)"
      ],
      "execution_count": 6,
      "outputs": [
        {
          "output_type": "stream",
          "text": [
            "[[[ 2]\n",
            "  [ 7]\n",
            "  [ 1]\n",
            "  ...\n",
            "  [ 0]\n",
            "  [ 0]\n",
            "  [ 0]]\n",
            "\n",
            " [[ 2]\n",
            "  [13]\n",
            "  [ 1]\n",
            "  ...\n",
            "  [ 0]\n",
            "  [ 0]\n",
            "  [ 0]]\n",
            "\n",
            " [[19]\n",
            "  [ 3]\n",
            "  [10]\n",
            "  ...\n",
            "  [ 0]\n",
            "  [ 0]\n",
            "  [ 0]]\n",
            "\n",
            " ...\n",
            "\n",
            " [[11]\n",
            "  [ 1]\n",
            "  [10]\n",
            "  ...\n",
            "  [ 0]\n",
            "  [ 0]\n",
            "  [ 0]]\n",
            "\n",
            " [[18]\n",
            "  [ 1]\n",
            "  [ 5]\n",
            "  ...\n",
            "  [ 0]\n",
            "  [ 0]\n",
            "  [ 0]]\n",
            "\n",
            " [[ 9]\n",
            "  [ 7]\n",
            "  [ 9]\n",
            "  ...\n",
            "  [ 0]\n",
            "  [ 0]\n",
            "  [ 0]]]\n",
            "[[ 0  2  7 ...  0  0  0]\n",
            " [ 0  2 13 ...  0  0  0]\n",
            " [ 0 19  3 ...  0  0  0]\n",
            " ...\n",
            " [ 0 11  1 ...  0  0  0]\n",
            " [ 0 18  1 ...  0  0  0]\n",
            " [ 0  9  7 ...  0  0  0]]\n"
          ],
          "name": "stdout"
        }
      ]
    },
    {
      "cell_type": "code",
      "metadata": {
        "id": "qsvNfLGmvk7I",
        "colab_type": "code",
        "colab": {}
      },
      "source": [
        "def build_model(vocab_size, embedding_dim, rnn_units):\n",
        "  model = keras.models.Sequential()\n",
        "  #model.add(keras.layers.Embedding(vocab_size, embedding_dim, input_length=batch_size))\n",
        "  model.add(keras.layers.LSTM(rnn_units, return_sequences=True, recurrent_initializer='glorot_uniform', input_shape=(x_sequences.shape[1], x_sequences.shape[2])))\n",
        "  model.add(keras.layers.Dense(vocab_size,  activation='softmax'))\n",
        "  return model"
      ],
      "execution_count": 0,
      "outputs": []
    },
    {
      "cell_type": "code",
      "metadata": {
        "id": "WkCHV0-8I5lh",
        "colab_type": "code",
        "outputId": "69192789-beb5-46fa-c1d7-07f922b79acd",
        "colab": {
          "base_uri": "https://localhost:8080/",
          "height": 221
        }
      },
      "source": [
        "model = build_model(vocab_size, embedding_dim=4, rnn_units=128)\n",
        "model.summary()"
      ],
      "execution_count": 8,
      "outputs": [
        {
          "output_type": "stream",
          "text": [
            "Model: \"sequential\"\n",
            "_________________________________________________________________\n",
            "Layer (type)                 Output Shape              Param #   \n",
            "=================================================================\n",
            "lstm (LSTM)                  (None, 26, 128)           66560     \n",
            "_________________________________________________________________\n",
            "dense (Dense)                (None, 26, 27)            3483      \n",
            "=================================================================\n",
            "Total params: 70,043\n",
            "Trainable params: 70,043\n",
            "Non-trainable params: 0\n",
            "_________________________________________________________________\n"
          ],
          "name": "stdout"
        }
      ]
    },
    {
      "cell_type": "code",
      "metadata": {
        "id": "TFk-Qfo4JCYk",
        "colab_type": "code",
        "colab": {}
      },
      "source": [
        "def loss(labels, logits):\n",
        "  return tf.keras.losses.sparse_categorical_crossentropy(labels, logits, from_logits=True)"
      ],
      "execution_count": 0,
      "outputs": []
    },
    {
      "cell_type": "code",
      "metadata": {
        "id": "cV3q0CXPLNDY",
        "colab_type": "code",
        "colab": {}
      },
      "source": [
        "model.compile(optimizer='adam', loss=loss)"
      ],
      "execution_count": 0,
      "outputs": []
    },
    {
      "cell_type": "code",
      "metadata": {
        "id": "Z-W8rNFILQQL",
        "colab_type": "code",
        "outputId": "b3ba356f-7c00-4946-bdeb-5762bde6fd7d",
        "colab": {
          "base_uri": "https://localhost:8080/",
          "height": 918
        }
      },
      "source": [
        "# Directory where the checkpoints will be saved\n",
        "checkpoint_dir = '/content/drive/My Drive/Colab Notebooks/CharacterLevelLanguageModel/'\n",
        "# Name of the checkpoint files\n",
        "checkpoint_prefix = checkpoint_dir + \"weights-improvement.hdf5\"\n",
        "\n",
        "checkpoint_callback=keras.callbacks.ModelCheckpoint(\n",
        "    filepath=checkpoint_prefix,\n",
        "    save_weights_only=True)\n",
        "\n",
        "history = model.fit(x_sequences, y_sequences, epochs=200, callbacks=[checkpoint_callback])"
      ],
      "execution_count": 11,
      "outputs": [
        {
          "output_type": "stream",
          "text": [
            "Epoch 1/200\n",
            "48/48 [==============================] - 2s 32ms/step - loss: 2.9209\n",
            "Epoch 2/200\n",
            "48/48 [==============================] - 1s 25ms/step - loss: 2.8185\n",
            "Epoch 3/200\n",
            "48/48 [==============================] - 1s 25ms/step - loss: 2.8056\n",
            "Epoch 4/200\n",
            "48/48 [==============================] - 1s 25ms/step - loss: 2.8017\n",
            "Epoch 5/200\n",
            "48/48 [==============================] - 1s 26ms/step - loss: 2.7993\n",
            "Epoch 6/200\n",
            "48/48 [==============================] - 1s 25ms/step - loss: 2.7957\n",
            "Epoch 7/200\n",
            "48/48 [==============================] - 1s 26ms/step - loss: 2.7868\n",
            "Epoch 8/200\n",
            "48/48 [==============================] - 1s 27ms/step - loss: 2.7756\n",
            "Epoch 9/200\n",
            "48/48 [==============================] - 1s 27ms/step - loss: 2.7668\n",
            "Epoch 10/200\n",
            "48/48 [==============================] - 1s 27ms/step - loss: 2.7368\n",
            "Epoch 11/200\n",
            "48/48 [==============================] - 1s 25ms/step - loss: 2.7266\n",
            "Epoch 12/200\n",
            "48/48 [==============================] - 1s 25ms/step - loss: 2.7237\n",
            "Epoch 13/200\n",
            "48/48 [==============================] - 1s 25ms/step - loss: 2.7222\n",
            "Epoch 14/200\n",
            "48/48 [==============================] - 1s 25ms/step - loss: 2.7208\n",
            "Epoch 15/200\n",
            "48/48 [==============================] - 1s 25ms/step - loss: 2.7196\n",
            "Epoch 16/200\n",
            "48/48 [==============================] - 1s 25ms/step - loss: 2.7182\n",
            "Epoch 17/200\n",
            "38/48 [======================>.......] - ETA: 0s - loss: 2.7148"
          ],
          "name": "stdout"
        },
        {
          "output_type": "error",
          "ename": "KeyboardInterrupt",
          "evalue": "ignored",
          "traceback": [
            "\u001b[0;31m---------------------------------------------------------------------------\u001b[0m",
            "\u001b[0;31mKeyboardInterrupt\u001b[0m                         Traceback (most recent call last)",
            "\u001b[0;32m<ipython-input-11-82e7910252e4>\u001b[0m in \u001b[0;36m<module>\u001b[0;34m()\u001b[0m\n\u001b[1;32m      8\u001b[0m     save_weights_only=True)\n\u001b[1;32m      9\u001b[0m \u001b[0;34m\u001b[0m\u001b[0m\n\u001b[0;32m---> 10\u001b[0;31m \u001b[0mhistory\u001b[0m \u001b[0;34m=\u001b[0m \u001b[0mmodel\u001b[0m\u001b[0;34m.\u001b[0m\u001b[0mfit\u001b[0m\u001b[0;34m(\u001b[0m\u001b[0mx_sequences\u001b[0m\u001b[0;34m,\u001b[0m \u001b[0my_sequences\u001b[0m\u001b[0;34m,\u001b[0m \u001b[0mepochs\u001b[0m\u001b[0;34m=\u001b[0m\u001b[0;36m200\u001b[0m\u001b[0;34m,\u001b[0m \u001b[0mcallbacks\u001b[0m\u001b[0;34m=\u001b[0m\u001b[0;34m[\u001b[0m\u001b[0mcheckpoint_callback\u001b[0m\u001b[0;34m]\u001b[0m\u001b[0;34m)\u001b[0m\u001b[0;34m\u001b[0m\u001b[0;34m\u001b[0m\u001b[0m\n\u001b[0m",
            "\u001b[0;32m/usr/local/lib/python3.6/dist-packages/tensorflow/python/keras/engine/training.py\u001b[0m in \u001b[0;36m_method_wrapper\u001b[0;34m(self, *args, **kwargs)\u001b[0m\n\u001b[1;32m     64\u001b[0m   \u001b[0;32mdef\u001b[0m \u001b[0m_method_wrapper\u001b[0m\u001b[0;34m(\u001b[0m\u001b[0mself\u001b[0m\u001b[0;34m,\u001b[0m \u001b[0;34m*\u001b[0m\u001b[0margs\u001b[0m\u001b[0;34m,\u001b[0m \u001b[0;34m**\u001b[0m\u001b[0mkwargs\u001b[0m\u001b[0;34m)\u001b[0m\u001b[0;34m:\u001b[0m\u001b[0;34m\u001b[0m\u001b[0;34m\u001b[0m\u001b[0m\n\u001b[1;32m     65\u001b[0m     \u001b[0;32mif\u001b[0m \u001b[0;32mnot\u001b[0m \u001b[0mself\u001b[0m\u001b[0;34m.\u001b[0m\u001b[0m_in_multi_worker_mode\u001b[0m\u001b[0;34m(\u001b[0m\u001b[0;34m)\u001b[0m\u001b[0;34m:\u001b[0m  \u001b[0;31m# pylint: disable=protected-access\u001b[0m\u001b[0;34m\u001b[0m\u001b[0;34m\u001b[0m\u001b[0m\n\u001b[0;32m---> 66\u001b[0;31m       \u001b[0;32mreturn\u001b[0m \u001b[0mmethod\u001b[0m\u001b[0;34m(\u001b[0m\u001b[0mself\u001b[0m\u001b[0;34m,\u001b[0m \u001b[0;34m*\u001b[0m\u001b[0margs\u001b[0m\u001b[0;34m,\u001b[0m \u001b[0;34m**\u001b[0m\u001b[0mkwargs\u001b[0m\u001b[0;34m)\u001b[0m\u001b[0;34m\u001b[0m\u001b[0;34m\u001b[0m\u001b[0m\n\u001b[0m\u001b[1;32m     67\u001b[0m \u001b[0;34m\u001b[0m\u001b[0m\n\u001b[1;32m     68\u001b[0m     \u001b[0;31m# Running inside `run_distribute_coordinator` already.\u001b[0m\u001b[0;34m\u001b[0m\u001b[0;34m\u001b[0m\u001b[0;34m\u001b[0m\u001b[0m\n",
            "\u001b[0;32m/usr/local/lib/python3.6/dist-packages/tensorflow/python/keras/engine/training.py\u001b[0m in \u001b[0;36mfit\u001b[0;34m(self, x, y, batch_size, epochs, verbose, callbacks, validation_split, validation_data, shuffle, class_weight, sample_weight, initial_epoch, steps_per_epoch, validation_steps, validation_batch_size, validation_freq, max_queue_size, workers, use_multiprocessing)\u001b[0m\n\u001b[1;32m    846\u001b[0m                 batch_size=batch_size):\n\u001b[1;32m    847\u001b[0m               \u001b[0mcallbacks\u001b[0m\u001b[0;34m.\u001b[0m\u001b[0mon_train_batch_begin\u001b[0m\u001b[0;34m(\u001b[0m\u001b[0mstep\u001b[0m\u001b[0;34m)\u001b[0m\u001b[0;34m\u001b[0m\u001b[0;34m\u001b[0m\u001b[0m\n\u001b[0;32m--> 848\u001b[0;31m               \u001b[0mtmp_logs\u001b[0m \u001b[0;34m=\u001b[0m \u001b[0mtrain_function\u001b[0m\u001b[0;34m(\u001b[0m\u001b[0miterator\u001b[0m\u001b[0;34m)\u001b[0m\u001b[0;34m\u001b[0m\u001b[0;34m\u001b[0m\u001b[0m\n\u001b[0m\u001b[1;32m    849\u001b[0m               \u001b[0;31m# Catch OutOfRangeError for Datasets of unknown size.\u001b[0m\u001b[0;34m\u001b[0m\u001b[0;34m\u001b[0m\u001b[0;34m\u001b[0m\u001b[0m\n\u001b[1;32m    850\u001b[0m               \u001b[0;31m# This blocks until the batch has finished executing.\u001b[0m\u001b[0;34m\u001b[0m\u001b[0;34m\u001b[0m\u001b[0;34m\u001b[0m\u001b[0m\n",
            "\u001b[0;32m/usr/local/lib/python3.6/dist-packages/tensorflow/python/eager/def_function.py\u001b[0m in \u001b[0;36m__call__\u001b[0;34m(self, *args, **kwds)\u001b[0m\n\u001b[1;32m    578\u001b[0m         \u001b[0mxla_context\u001b[0m\u001b[0;34m.\u001b[0m\u001b[0mExit\u001b[0m\u001b[0;34m(\u001b[0m\u001b[0;34m)\u001b[0m\u001b[0;34m\u001b[0m\u001b[0;34m\u001b[0m\u001b[0m\n\u001b[1;32m    579\u001b[0m     \u001b[0;32melse\u001b[0m\u001b[0;34m:\u001b[0m\u001b[0;34m\u001b[0m\u001b[0;34m\u001b[0m\u001b[0m\n\u001b[0;32m--> 580\u001b[0;31m       \u001b[0mresult\u001b[0m \u001b[0;34m=\u001b[0m \u001b[0mself\u001b[0m\u001b[0;34m.\u001b[0m\u001b[0m_call\u001b[0m\u001b[0;34m(\u001b[0m\u001b[0;34m*\u001b[0m\u001b[0margs\u001b[0m\u001b[0;34m,\u001b[0m \u001b[0;34m**\u001b[0m\u001b[0mkwds\u001b[0m\u001b[0;34m)\u001b[0m\u001b[0;34m\u001b[0m\u001b[0;34m\u001b[0m\u001b[0m\n\u001b[0m\u001b[1;32m    581\u001b[0m \u001b[0;34m\u001b[0m\u001b[0m\n\u001b[1;32m    582\u001b[0m     \u001b[0;32mif\u001b[0m \u001b[0mtracing_count\u001b[0m \u001b[0;34m==\u001b[0m \u001b[0mself\u001b[0m\u001b[0;34m.\u001b[0m\u001b[0m_get_tracing_count\u001b[0m\u001b[0;34m(\u001b[0m\u001b[0;34m)\u001b[0m\u001b[0;34m:\u001b[0m\u001b[0;34m\u001b[0m\u001b[0;34m\u001b[0m\u001b[0m\n",
            "\u001b[0;32m/usr/local/lib/python3.6/dist-packages/tensorflow/python/eager/def_function.py\u001b[0m in \u001b[0;36m_call\u001b[0;34m(self, *args, **kwds)\u001b[0m\n\u001b[1;32m    609\u001b[0m       \u001b[0;31m# In this case we have created variables on the first call, so we run the\u001b[0m\u001b[0;34m\u001b[0m\u001b[0;34m\u001b[0m\u001b[0;34m\u001b[0m\u001b[0m\n\u001b[1;32m    610\u001b[0m       \u001b[0;31m# defunned version which is guaranteed to never create variables.\u001b[0m\u001b[0;34m\u001b[0m\u001b[0;34m\u001b[0m\u001b[0;34m\u001b[0m\u001b[0m\n\u001b[0;32m--> 611\u001b[0;31m       \u001b[0;32mreturn\u001b[0m \u001b[0mself\u001b[0m\u001b[0;34m.\u001b[0m\u001b[0m_stateless_fn\u001b[0m\u001b[0;34m(\u001b[0m\u001b[0;34m*\u001b[0m\u001b[0margs\u001b[0m\u001b[0;34m,\u001b[0m \u001b[0;34m**\u001b[0m\u001b[0mkwds\u001b[0m\u001b[0;34m)\u001b[0m  \u001b[0;31m# pylint: disable=not-callable\u001b[0m\u001b[0;34m\u001b[0m\u001b[0;34m\u001b[0m\u001b[0m\n\u001b[0m\u001b[1;32m    612\u001b[0m     \u001b[0;32melif\u001b[0m \u001b[0mself\u001b[0m\u001b[0;34m.\u001b[0m\u001b[0m_stateful_fn\u001b[0m \u001b[0;32mis\u001b[0m \u001b[0;32mnot\u001b[0m \u001b[0;32mNone\u001b[0m\u001b[0;34m:\u001b[0m\u001b[0;34m\u001b[0m\u001b[0;34m\u001b[0m\u001b[0m\n\u001b[1;32m    613\u001b[0m       \u001b[0;31m# Release the lock early so that multiple threads can perform the call\u001b[0m\u001b[0;34m\u001b[0m\u001b[0;34m\u001b[0m\u001b[0;34m\u001b[0m\u001b[0m\n",
            "\u001b[0;32m/usr/local/lib/python3.6/dist-packages/tensorflow/python/eager/function.py\u001b[0m in \u001b[0;36m__call__\u001b[0;34m(self, *args, **kwargs)\u001b[0m\n\u001b[1;32m   2418\u001b[0m     \u001b[0;32mwith\u001b[0m \u001b[0mself\u001b[0m\u001b[0;34m.\u001b[0m\u001b[0m_lock\u001b[0m\u001b[0;34m:\u001b[0m\u001b[0;34m\u001b[0m\u001b[0;34m\u001b[0m\u001b[0m\n\u001b[1;32m   2419\u001b[0m       \u001b[0mgraph_function\u001b[0m\u001b[0;34m,\u001b[0m \u001b[0margs\u001b[0m\u001b[0;34m,\u001b[0m \u001b[0mkwargs\u001b[0m \u001b[0;34m=\u001b[0m \u001b[0mself\u001b[0m\u001b[0;34m.\u001b[0m\u001b[0m_maybe_define_function\u001b[0m\u001b[0;34m(\u001b[0m\u001b[0margs\u001b[0m\u001b[0;34m,\u001b[0m \u001b[0mkwargs\u001b[0m\u001b[0;34m)\u001b[0m\u001b[0;34m\u001b[0m\u001b[0;34m\u001b[0m\u001b[0m\n\u001b[0;32m-> 2420\u001b[0;31m     \u001b[0;32mreturn\u001b[0m \u001b[0mgraph_function\u001b[0m\u001b[0;34m.\u001b[0m\u001b[0m_filtered_call\u001b[0m\u001b[0;34m(\u001b[0m\u001b[0margs\u001b[0m\u001b[0;34m,\u001b[0m \u001b[0mkwargs\u001b[0m\u001b[0;34m)\u001b[0m  \u001b[0;31m# pylint: disable=protected-access\u001b[0m\u001b[0;34m\u001b[0m\u001b[0;34m\u001b[0m\u001b[0m\n\u001b[0m\u001b[1;32m   2421\u001b[0m \u001b[0;34m\u001b[0m\u001b[0m\n\u001b[1;32m   2422\u001b[0m   \u001b[0;34m@\u001b[0m\u001b[0mproperty\u001b[0m\u001b[0;34m\u001b[0m\u001b[0;34m\u001b[0m\u001b[0m\n",
            "\u001b[0;32m/usr/local/lib/python3.6/dist-packages/tensorflow/python/eager/function.py\u001b[0m in \u001b[0;36m_filtered_call\u001b[0;34m(self, args, kwargs)\u001b[0m\n\u001b[1;32m   1663\u001b[0m          if isinstance(t, (ops.Tensor,\n\u001b[1;32m   1664\u001b[0m                            resource_variable_ops.BaseResourceVariable))),\n\u001b[0;32m-> 1665\u001b[0;31m         self.captured_inputs)\n\u001b[0m\u001b[1;32m   1666\u001b[0m \u001b[0;34m\u001b[0m\u001b[0m\n\u001b[1;32m   1667\u001b[0m   \u001b[0;32mdef\u001b[0m \u001b[0m_call_flat\u001b[0m\u001b[0;34m(\u001b[0m\u001b[0mself\u001b[0m\u001b[0;34m,\u001b[0m \u001b[0margs\u001b[0m\u001b[0;34m,\u001b[0m \u001b[0mcaptured_inputs\u001b[0m\u001b[0;34m,\u001b[0m \u001b[0mcancellation_manager\u001b[0m\u001b[0;34m=\u001b[0m\u001b[0;32mNone\u001b[0m\u001b[0;34m)\u001b[0m\u001b[0;34m:\u001b[0m\u001b[0;34m\u001b[0m\u001b[0;34m\u001b[0m\u001b[0m\n",
            "\u001b[0;32m/usr/local/lib/python3.6/dist-packages/tensorflow/python/eager/function.py\u001b[0m in \u001b[0;36m_call_flat\u001b[0;34m(self, args, captured_inputs, cancellation_manager)\u001b[0m\n\u001b[1;32m   1744\u001b[0m       \u001b[0;31m# No tape is watching; skip to running the function.\u001b[0m\u001b[0;34m\u001b[0m\u001b[0;34m\u001b[0m\u001b[0;34m\u001b[0m\u001b[0m\n\u001b[1;32m   1745\u001b[0m       return self._build_call_outputs(self._inference_function.call(\n\u001b[0;32m-> 1746\u001b[0;31m           ctx, args, cancellation_manager=cancellation_manager))\n\u001b[0m\u001b[1;32m   1747\u001b[0m     forward_backward = self._select_forward_and_backward_functions(\n\u001b[1;32m   1748\u001b[0m         \u001b[0margs\u001b[0m\u001b[0;34m,\u001b[0m\u001b[0;34m\u001b[0m\u001b[0;34m\u001b[0m\u001b[0m\n",
            "\u001b[0;32m/usr/local/lib/python3.6/dist-packages/tensorflow/python/eager/function.py\u001b[0m in \u001b[0;36mcall\u001b[0;34m(self, ctx, args, cancellation_manager)\u001b[0m\n\u001b[1;32m    596\u001b[0m               \u001b[0minputs\u001b[0m\u001b[0;34m=\u001b[0m\u001b[0margs\u001b[0m\u001b[0;34m,\u001b[0m\u001b[0;34m\u001b[0m\u001b[0;34m\u001b[0m\u001b[0m\n\u001b[1;32m    597\u001b[0m               \u001b[0mattrs\u001b[0m\u001b[0;34m=\u001b[0m\u001b[0mattrs\u001b[0m\u001b[0;34m,\u001b[0m\u001b[0;34m\u001b[0m\u001b[0;34m\u001b[0m\u001b[0m\n\u001b[0;32m--> 598\u001b[0;31m               ctx=ctx)\n\u001b[0m\u001b[1;32m    599\u001b[0m         \u001b[0;32melse\u001b[0m\u001b[0;34m:\u001b[0m\u001b[0;34m\u001b[0m\u001b[0;34m\u001b[0m\u001b[0m\n\u001b[1;32m    600\u001b[0m           outputs = execute.execute_with_cancellation(\n",
            "\u001b[0;32m/usr/local/lib/python3.6/dist-packages/tensorflow/python/eager/execute.py\u001b[0m in \u001b[0;36mquick_execute\u001b[0;34m(op_name, num_outputs, inputs, attrs, ctx, name)\u001b[0m\n\u001b[1;32m     58\u001b[0m     \u001b[0mctx\u001b[0m\u001b[0;34m.\u001b[0m\u001b[0mensure_initialized\u001b[0m\u001b[0;34m(\u001b[0m\u001b[0;34m)\u001b[0m\u001b[0;34m\u001b[0m\u001b[0;34m\u001b[0m\u001b[0m\n\u001b[1;32m     59\u001b[0m     tensors = pywrap_tfe.TFE_Py_Execute(ctx._handle, device_name, op_name,\n\u001b[0;32m---> 60\u001b[0;31m                                         inputs, attrs, num_outputs)\n\u001b[0m\u001b[1;32m     61\u001b[0m   \u001b[0;32mexcept\u001b[0m \u001b[0mcore\u001b[0m\u001b[0;34m.\u001b[0m\u001b[0m_NotOkStatusException\u001b[0m \u001b[0;32mas\u001b[0m \u001b[0me\u001b[0m\u001b[0;34m:\u001b[0m\u001b[0;34m\u001b[0m\u001b[0;34m\u001b[0m\u001b[0m\n\u001b[1;32m     62\u001b[0m     \u001b[0;32mif\u001b[0m \u001b[0mname\u001b[0m \u001b[0;32mis\u001b[0m \u001b[0;32mnot\u001b[0m \u001b[0;32mNone\u001b[0m\u001b[0;34m:\u001b[0m\u001b[0;34m\u001b[0m\u001b[0;34m\u001b[0m\u001b[0m\n",
            "\u001b[0;31mKeyboardInterrupt\u001b[0m: "
          ]
        }
      ]
    },
    {
      "cell_type": "code",
      "metadata": {
        "id": "aWWnyuLuLkFp",
        "colab_type": "code",
        "colab": {}
      },
      "source": [
        "model = build_model(vocab_size, 4, 128)\n",
        "\n",
        "model.load_weights(checkpoint_prefix)\n",
        "\n",
        "model.build(tf.TensorShape([1, ]))\n",
        "\n",
        "def generate_text(model, start_char):\n",
        "  # Evaluation step (generating text using the learned model)\n",
        "\n",
        "  # Number of characters to generate\n",
        "  num_generate = 15\n",
        "\n",
        "  # Converting our start string to numbers (vectorizing)\n",
        "  input_eval = tokenizer.texts_to_sequences(start_char)\n",
        "  input_eval = tf.expand_dims(input_eval, 0)\n",
        "  print(input_eval)\n",
        "\n",
        "  # Empty string to store our results\n",
        "  text_generated = []\n",
        "\n",
        "  # Low temperatures results in more predictable text.\n",
        "  # Higher temperatures results in more surprising text.\n",
        "  # Experiment to find the best setting.\n",
        "  temperature = 1.0\n",
        "\n",
        "  # Here batch size == 1\n",
        "  model.reset_states()\n",
        "  for i in range(num_generate):\n",
        "      predictions = model(input_eval)\n",
        "      # remove the batch dimension\n",
        "      predictions = tf.squeeze(predictions, 0)\n",
        "\n",
        "      # using a categorical distribution to predict the character returned by the model\n",
        "      predictions = predictions / temperature\n",
        "      predicted_id = tf.random.categorical(predictions, num_samples=1)[-1,0].numpy()\n",
        "      # We pass the predicted character as the next input to the model\n",
        "      # along with the previous hidden state\n",
        "      input_eval = tf.expand_dims([predicted_id], 0)\n",
        "      predictedChar = ''.join([str(elem) for elem in tokenizer.sequences_to_texts([[predicted_id]])])\n",
        "      text_generated.append(predictedChar)\n",
        "     # text_generated.append(str(tokenizer.sequences_to_texts([[predicted_id]])))\n",
        "  return (start_char + ''.join(text_generated))"
      ],
      "execution_count": 0,
      "outputs": []
    },
    {
      "cell_type": "code",
      "metadata": {
        "id": "VV4NVY4IRgJN",
        "colab_type": "code",
        "outputId": "0b4c02d9-c597-4e9d-d397-6a7ec3cdaf82",
        "colab": {
          "base_uri": "https://localhost:8080/",
          "height": 1000
        }
      },
      "source": [
        "for i in range(12):\n",
        "  randomNum = np.random.randint(1, 27)\n",
        "  character=''\n",
        "  for char, sequence in tokenizer.word_index.items(): \n",
        "    if sequence == randomNum:\n",
        "      character = char\n",
        "  print(generate_text(model, start_char=character))\n"
      ],
      "execution_count": 20,
      "outputs": [
        {
          "output_type": "stream",
          "text": [
            "5\n",
            "tf.Tensor([[[5]]], shape=(1, 1, 1), dtype=int32)\n",
            "WARNING:tensorflow:Model was constructed with shape (None, 26, 1) for input Tensor(\"lstm_2_input:0\", shape=(None, 26, 1), dtype=float32), but it was called on an input with incompatible shape (1, 1, 1).\n",
            "WARNING:tensorflow:Model was constructed with shape (None, 26, 1) for input Tensor(\"lstm_2_input:0\", shape=(None, 26, 1), dtype=float32), but it was called on an input with incompatible shape (1, 1, 1).\n",
            "WARNING:tensorflow:Model was constructed with shape (None, 26, 1) for input Tensor(\"lstm_2_input:0\", shape=(None, 26, 1), dtype=float32), but it was called on an input with incompatible shape (1, 1, 1).\n",
            "WARNING:tensorflow:Model was constructed with shape (None, 26, 1) for input Tensor(\"lstm_2_input:0\", shape=(None, 26, 1), dtype=float32), but it was called on an input with incompatible shape (1, 1, 1).\n",
            "WARNING:tensorflow:Model was constructed with shape (None, 26, 1) for input Tensor(\"lstm_2_input:0\", shape=(None, 26, 1), dtype=float32), but it was called on an input with incompatible shape (1, 1, 1).\n",
            "WARNING:tensorflow:Model was constructed with shape (None, 26, 1) for input Tensor(\"lstm_2_input:0\", shape=(None, 26, 1), dtype=float32), but it was called on an input with incompatible shape (1, 1, 1).\n",
            "WARNING:tensorflow:Model was constructed with shape (None, 26, 1) for input Tensor(\"lstm_2_input:0\", shape=(None, 26, 1), dtype=float32), but it was called on an input with incompatible shape (1, 1, 1).\n",
            "WARNING:tensorflow:Model was constructed with shape (None, 26, 1) for input Tensor(\"lstm_2_input:0\", shape=(None, 26, 1), dtype=float32), but it was called on an input with incompatible shape (1, 1, 1).\n",
            "WARNING:tensorflow:Model was constructed with shape (None, 26, 1) for input Tensor(\"lstm_2_input:0\", shape=(None, 26, 1), dtype=float32), but it was called on an input with incompatible shape (1, 1, 1).\n",
            "WARNING:tensorflow:Model was constructed with shape (None, 26, 1) for input Tensor(\"lstm_2_input:0\", shape=(None, 26, 1), dtype=float32), but it was called on an input with incompatible shape (1, 1, 1).\n",
            "WARNING:tensorflow:Model was constructed with shape (None, 26, 1) for input Tensor(\"lstm_2_input:0\", shape=(None, 26, 1), dtype=float32), but it was called on an input with incompatible shape (1, 1, 1).\n",
            "WARNING:tensorflow:Model was constructed with shape (None, 26, 1) for input Tensor(\"lstm_2_input:0\", shape=(None, 26, 1), dtype=float32), but it was called on an input with incompatible shape (1, 1, 1).\n",
            "WARNING:tensorflow:Model was constructed with shape (None, 26, 1) for input Tensor(\"lstm_2_input:0\", shape=(None, 26, 1), dtype=float32), but it was called on an input with incompatible shape (1, 1, 1).\n",
            "WARNING:tensorflow:Model was constructed with shape (None, 26, 1) for input Tensor(\"lstm_2_input:0\", shape=(None, 26, 1), dtype=float32), but it was called on an input with incompatible shape (1, 1, 1).\n",
            "WARNING:tensorflow:Model was constructed with shape (None, 26, 1) for input Tensor(\"lstm_2_input:0\", shape=(None, 26, 1), dtype=float32), but it was called on an input with incompatible shape (1, 1, 1).\n",
            "rkrhebnlmrgvl\n",
            "1\n",
            "tf.Tensor([[[1]]], shape=(1, 1, 1), dtype=int32)\n",
            "WARNING:tensorflow:Model was constructed with shape (None, 26, 1) for input Tensor(\"lstm_2_input:0\", shape=(None, 26, 1), dtype=float32), but it was called on an input with incompatible shape (1, 1, 1).\n",
            "WARNING:tensorflow:Model was constructed with shape (None, 26, 1) for input Tensor(\"lstm_2_input:0\", shape=(None, 26, 1), dtype=float32), but it was called on an input with incompatible shape (1, 1, 1).\n",
            "WARNING:tensorflow:Model was constructed with shape (None, 26, 1) for input Tensor(\"lstm_2_input:0\", shape=(None, 26, 1), dtype=float32), but it was called on an input with incompatible shape (1, 1, 1).\n",
            "WARNING:tensorflow:Model was constructed with shape (None, 26, 1) for input Tensor(\"lstm_2_input:0\", shape=(None, 26, 1), dtype=float32), but it was called on an input with incompatible shape (1, 1, 1).\n",
            "WARNING:tensorflow:Model was constructed with shape (None, 26, 1) for input Tensor(\"lstm_2_input:0\", shape=(None, 26, 1), dtype=float32), but it was called on an input with incompatible shape (1, 1, 1).\n",
            "WARNING:tensorflow:Model was constructed with shape (None, 26, 1) for input Tensor(\"lstm_2_input:0\", shape=(None, 26, 1), dtype=float32), but it was called on an input with incompatible shape (1, 1, 1).\n",
            "WARNING:tensorflow:Model was constructed with shape (None, 26, 1) for input Tensor(\"lstm_2_input:0\", shape=(None, 26, 1), dtype=float32), but it was called on an input with incompatible shape (1, 1, 1).\n",
            "WARNING:tensorflow:Model was constructed with shape (None, 26, 1) for input Tensor(\"lstm_2_input:0\", shape=(None, 26, 1), dtype=float32), but it was called on an input with incompatible shape (1, 1, 1).\n",
            "WARNING:tensorflow:Model was constructed with shape (None, 26, 1) for input Tensor(\"lstm_2_input:0\", shape=(None, 26, 1), dtype=float32), but it was called on an input with incompatible shape (1, 1, 1).\n",
            "WARNING:tensorflow:Model was constructed with shape (None, 26, 1) for input Tensor(\"lstm_2_input:0\", shape=(None, 26, 1), dtype=float32), but it was called on an input with incompatible shape (1, 1, 1).\n",
            "WARNING:tensorflow:Model was constructed with shape (None, 26, 1) for input Tensor(\"lstm_2_input:0\", shape=(None, 26, 1), dtype=float32), but it was called on an input with incompatible shape (1, 1, 1).\n",
            "WARNING:tensorflow:Model was constructed with shape (None, 26, 1) for input Tensor(\"lstm_2_input:0\", shape=(None, 26, 1), dtype=float32), but it was called on an input with incompatible shape (1, 1, 1).\n",
            "WARNING:tensorflow:Model was constructed with shape (None, 26, 1) for input Tensor(\"lstm_2_input:0\", shape=(None, 26, 1), dtype=float32), but it was called on an input with incompatible shape (1, 1, 1).\n",
            "WARNING:tensorflow:Model was constructed with shape (None, 26, 1) for input Tensor(\"lstm_2_input:0\", shape=(None, 26, 1), dtype=float32), but it was called on an input with incompatible shape (1, 1, 1).\n",
            "WARNING:tensorflow:Model was constructed with shape (None, 26, 1) for input Tensor(\"lstm_2_input:0\", shape=(None, 26, 1), dtype=float32), but it was called on an input with incompatible shape (1, 1, 1).\n",
            "afzqoncmrdmbbtqt\n",
            "4\n",
            "tf.Tensor([[[4]]], shape=(1, 1, 1), dtype=int32)\n",
            "WARNING:tensorflow:Model was constructed with shape (None, 26, 1) for input Tensor(\"lstm_2_input:0\", shape=(None, 26, 1), dtype=float32), but it was called on an input with incompatible shape (1, 1, 1).\n",
            "WARNING:tensorflow:Model was constructed with shape (None, 26, 1) for input Tensor(\"lstm_2_input:0\", shape=(None, 26, 1), dtype=float32), but it was called on an input with incompatible shape (1, 1, 1).\n",
            "WARNING:tensorflow:Model was constructed with shape (None, 26, 1) for input Tensor(\"lstm_2_input:0\", shape=(None, 26, 1), dtype=float32), but it was called on an input with incompatible shape (1, 1, 1).\n",
            "WARNING:tensorflow:Model was constructed with shape (None, 26, 1) for input Tensor(\"lstm_2_input:0\", shape=(None, 26, 1), dtype=float32), but it was called on an input with incompatible shape (1, 1, 1).\n",
            "WARNING:tensorflow:Model was constructed with shape (None, 26, 1) for input Tensor(\"lstm_2_input:0\", shape=(None, 26, 1), dtype=float32), but it was called on an input with incompatible shape (1, 1, 1).\n",
            "WARNING:tensorflow:Model was constructed with shape (None, 26, 1) for input Tensor(\"lstm_2_input:0\", shape=(None, 26, 1), dtype=float32), but it was called on an input with incompatible shape (1, 1, 1).\n",
            "WARNING:tensorflow:Model was constructed with shape (None, 26, 1) for input Tensor(\"lstm_2_input:0\", shape=(None, 26, 1), dtype=float32), but it was called on an input with incompatible shape (1, 1, 1).\n",
            "WARNING:tensorflow:Model was constructed with shape (None, 26, 1) for input Tensor(\"lstm_2_input:0\", shape=(None, 26, 1), dtype=float32), but it was called on an input with incompatible shape (1, 1, 1).\n",
            "WARNING:tensorflow:Model was constructed with shape (None, 26, 1) for input Tensor(\"lstm_2_input:0\", shape=(None, 26, 1), dtype=float32), but it was called on an input with incompatible shape (1, 1, 1).\n",
            "WARNING:tensorflow:Model was constructed with shape (None, 26, 1) for input Tensor(\"lstm_2_input:0\", shape=(None, 26, 1), dtype=float32), but it was called on an input with incompatible shape (1, 1, 1).\n",
            "WARNING:tensorflow:Model was constructed with shape (None, 26, 1) for input Tensor(\"lstm_2_input:0\", shape=(None, 26, 1), dtype=float32), but it was called on an input with incompatible shape (1, 1, 1).\n",
            "WARNING:tensorflow:Model was constructed with shape (None, 26, 1) for input Tensor(\"lstm_2_input:0\", shape=(None, 26, 1), dtype=float32), but it was called on an input with incompatible shape (1, 1, 1).\n",
            "WARNING:tensorflow:Model was constructed with shape (None, 26, 1) for input Tensor(\"lstm_2_input:0\", shape=(None, 26, 1), dtype=float32), but it was called on an input with incompatible shape (1, 1, 1).\n",
            "WARNING:tensorflow:Model was constructed with shape (None, 26, 1) for input Tensor(\"lstm_2_input:0\", shape=(None, 26, 1), dtype=float32), but it was called on an input with incompatible shape (1, 1, 1).\n",
            "WARNING:tensorflow:Model was constructed with shape (None, 26, 1) for input Tensor(\"lstm_2_input:0\", shape=(None, 26, 1), dtype=float32), but it was called on an input with incompatible shape (1, 1, 1).\n",
            "oqoabvjynzgrfvw\n",
            "7\n",
            "tf.Tensor([[[7]]], shape=(1, 1, 1), dtype=int32)\n",
            "WARNING:tensorflow:Model was constructed with shape (None, 26, 1) for input Tensor(\"lstm_2_input:0\", shape=(None, 26, 1), dtype=float32), but it was called on an input with incompatible shape (1, 1, 1).\n",
            "WARNING:tensorflow:Model was constructed with shape (None, 26, 1) for input Tensor(\"lstm_2_input:0\", shape=(None, 26, 1), dtype=float32), but it was called on an input with incompatible shape (1, 1, 1).\n",
            "WARNING:tensorflow:Model was constructed with shape (None, 26, 1) for input Tensor(\"lstm_2_input:0\", shape=(None, 26, 1), dtype=float32), but it was called on an input with incompatible shape (1, 1, 1).\n",
            "WARNING:tensorflow:Model was constructed with shape (None, 26, 1) for input Tensor(\"lstm_2_input:0\", shape=(None, 26, 1), dtype=float32), but it was called on an input with incompatible shape (1, 1, 1).\n",
            "WARNING:tensorflow:Model was constructed with shape (None, 26, 1) for input Tensor(\"lstm_2_input:0\", shape=(None, 26, 1), dtype=float32), but it was called on an input with incompatible shape (1, 1, 1).\n",
            "WARNING:tensorflow:Model was constructed with shape (None, 26, 1) for input Tensor(\"lstm_2_input:0\", shape=(None, 26, 1), dtype=float32), but it was called on an input with incompatible shape (1, 1, 1).\n",
            "WARNING:tensorflow:Model was constructed with shape (None, 26, 1) for input Tensor(\"lstm_2_input:0\", shape=(None, 26, 1), dtype=float32), but it was called on an input with incompatible shape (1, 1, 1).\n",
            "WARNING:tensorflow:Model was constructed with shape (None, 26, 1) for input Tensor(\"lstm_2_input:0\", shape=(None, 26, 1), dtype=float32), but it was called on an input with incompatible shape (1, 1, 1).\n",
            "WARNING:tensorflow:Model was constructed with shape (None, 26, 1) for input Tensor(\"lstm_2_input:0\", shape=(None, 26, 1), dtype=float32), but it was called on an input with incompatible shape (1, 1, 1).\n",
            "WARNING:tensorflow:Model was constructed with shape (None, 26, 1) for input Tensor(\"lstm_2_input:0\", shape=(None, 26, 1), dtype=float32), but it was called on an input with incompatible shape (1, 1, 1).\n",
            "WARNING:tensorflow:Model was constructed with shape (None, 26, 1) for input Tensor(\"lstm_2_input:0\", shape=(None, 26, 1), dtype=float32), but it was called on an input with incompatible shape (1, 1, 1).\n",
            "WARNING:tensorflow:Model was constructed with shape (None, 26, 1) for input Tensor(\"lstm_2_input:0\", shape=(None, 26, 1), dtype=float32), but it was called on an input with incompatible shape (1, 1, 1).\n",
            "WARNING:tensorflow:Model was constructed with shape (None, 26, 1) for input Tensor(\"lstm_2_input:0\", shape=(None, 26, 1), dtype=float32), but it was called on an input with incompatible shape (1, 1, 1).\n",
            "WARNING:tensorflow:Model was constructed with shape (None, 26, 1) for input Tensor(\"lstm_2_input:0\", shape=(None, 26, 1), dtype=float32), but it was called on an input with incompatible shape (1, 1, 1).\n",
            "WARNING:tensorflow:Model was constructed with shape (None, 26, 1) for input Tensor(\"lstm_2_input:0\", shape=(None, 26, 1), dtype=float32), but it was called on an input with incompatible shape (1, 1, 1).\n",
            "itdeyclyivmvxek\n",
            "23\n",
            "tf.Tensor([[[23]]], shape=(1, 1, 1), dtype=int32)\n",
            "WARNING:tensorflow:Model was constructed with shape (None, 26, 1) for input Tensor(\"lstm_2_input:0\", shape=(None, 26, 1), dtype=float32), but it was called on an input with incompatible shape (1, 1, 1).\n",
            "WARNING:tensorflow:Model was constructed with shape (None, 26, 1) for input Tensor(\"lstm_2_input:0\", shape=(None, 26, 1), dtype=float32), but it was called on an input with incompatible shape (1, 1, 1).\n",
            "WARNING:tensorflow:Model was constructed with shape (None, 26, 1) for input Tensor(\"lstm_2_input:0\", shape=(None, 26, 1), dtype=float32), but it was called on an input with incompatible shape (1, 1, 1).\n",
            "WARNING:tensorflow:Model was constructed with shape (None, 26, 1) for input Tensor(\"lstm_2_input:0\", shape=(None, 26, 1), dtype=float32), but it was called on an input with incompatible shape (1, 1, 1).\n",
            "WARNING:tensorflow:Model was constructed with shape (None, 26, 1) for input Tensor(\"lstm_2_input:0\", shape=(None, 26, 1), dtype=float32), but it was called on an input with incompatible shape (1, 1, 1).\n",
            "WARNING:tensorflow:Model was constructed with shape (None, 26, 1) for input Tensor(\"lstm_2_input:0\", shape=(None, 26, 1), dtype=float32), but it was called on an input with incompatible shape (1, 1, 1).\n",
            "WARNING:tensorflow:Model was constructed with shape (None, 26, 1) for input Tensor(\"lstm_2_input:0\", shape=(None, 26, 1), dtype=float32), but it was called on an input with incompatible shape (1, 1, 1).\n",
            "WARNING:tensorflow:Model was constructed with shape (None, 26, 1) for input Tensor(\"lstm_2_input:0\", shape=(None, 26, 1), dtype=float32), but it was called on an input with incompatible shape (1, 1, 1).\n",
            "WARNING:tensorflow:Model was constructed with shape (None, 26, 1) for input Tensor(\"lstm_2_input:0\", shape=(None, 26, 1), dtype=float32), but it was called on an input with incompatible shape (1, 1, 1).\n",
            "WARNING:tensorflow:Model was constructed with shape (None, 26, 1) for input Tensor(\"lstm_2_input:0\", shape=(None, 26, 1), dtype=float32), but it was called on an input with incompatible shape (1, 1, 1).\n",
            "WARNING:tensorflow:Model was constructed with shape (None, 26, 1) for input Tensor(\"lstm_2_input:0\", shape=(None, 26, 1), dtype=float32), but it was called on an input with incompatible shape (1, 1, 1).\n",
            "WARNING:tensorflow:Model was constructed with shape (None, 26, 1) for input Tensor(\"lstm_2_input:0\", shape=(None, 26, 1), dtype=float32), but it was called on an input with incompatible shape (1, 1, 1).\n",
            "WARNING:tensorflow:Model was constructed with shape (None, 26, 1) for input Tensor(\"lstm_2_input:0\", shape=(None, 26, 1), dtype=float32), but it was called on an input with incompatible shape (1, 1, 1).\n",
            "WARNING:tensorflow:Model was constructed with shape (None, 26, 1) for input Tensor(\"lstm_2_input:0\", shape=(None, 26, 1), dtype=float32), but it was called on an input with incompatible shape (1, 1, 1).\n",
            "WARNING:tensorflow:Model was constructed with shape (None, 26, 1) for input Tensor(\"lstm_2_input:0\", shape=(None, 26, 1), dtype=float32), but it was called on an input with incompatible shape (1, 1, 1).\n",
            "jjzlhhbhvfvenh\n",
            "18\n",
            "tf.Tensor([[[18]]], shape=(1, 1, 1), dtype=int32)\n",
            "WARNING:tensorflow:Model was constructed with shape (None, 26, 1) for input Tensor(\"lstm_2_input:0\", shape=(None, 26, 1), dtype=float32), but it was called on an input with incompatible shape (1, 1, 1).\n",
            "WARNING:tensorflow:Model was constructed with shape (None, 26, 1) for input Tensor(\"lstm_2_input:0\", shape=(None, 26, 1), dtype=float32), but it was called on an input with incompatible shape (1, 1, 1).\n",
            "WARNING:tensorflow:Model was constructed with shape (None, 26, 1) for input Tensor(\"lstm_2_input:0\", shape=(None, 26, 1), dtype=float32), but it was called on an input with incompatible shape (1, 1, 1).\n",
            "WARNING:tensorflow:Model was constructed with shape (None, 26, 1) for input Tensor(\"lstm_2_input:0\", shape=(None, 26, 1), dtype=float32), but it was called on an input with incompatible shape (1, 1, 1).\n",
            "WARNING:tensorflow:Model was constructed with shape (None, 26, 1) for input Tensor(\"lstm_2_input:0\", shape=(None, 26, 1), dtype=float32), but it was called on an input with incompatible shape (1, 1, 1).\n",
            "WARNING:tensorflow:Model was constructed with shape (None, 26, 1) for input Tensor(\"lstm_2_input:0\", shape=(None, 26, 1), dtype=float32), but it was called on an input with incompatible shape (1, 1, 1).\n",
            "WARNING:tensorflow:Model was constructed with shape (None, 26, 1) for input Tensor(\"lstm_2_input:0\", shape=(None, 26, 1), dtype=float32), but it was called on an input with incompatible shape (1, 1, 1).\n",
            "WARNING:tensorflow:Model was constructed with shape (None, 26, 1) for input Tensor(\"lstm_2_input:0\", shape=(None, 26, 1), dtype=float32), but it was called on an input with incompatible shape (1, 1, 1).\n",
            "WARNING:tensorflow:Model was constructed with shape (None, 26, 1) for input Tensor(\"lstm_2_input:0\", shape=(None, 26, 1), dtype=float32), but it was called on an input with incompatible shape (1, 1, 1).\n",
            "WARNING:tensorflow:Model was constructed with shape (None, 26, 1) for input Tensor(\"lstm_2_input:0\", shape=(None, 26, 1), dtype=float32), but it was called on an input with incompatible shape (1, 1, 1).\n",
            "WARNING:tensorflow:Model was constructed with shape (None, 26, 1) for input Tensor(\"lstm_2_input:0\", shape=(None, 26, 1), dtype=float32), but it was called on an input with incompatible shape (1, 1, 1).\n",
            "WARNING:tensorflow:Model was constructed with shape (None, 26, 1) for input Tensor(\"lstm_2_input:0\", shape=(None, 26, 1), dtype=float32), but it was called on an input with incompatible shape (1, 1, 1).\n",
            "WARNING:tensorflow:Model was constructed with shape (None, 26, 1) for input Tensor(\"lstm_2_input:0\", shape=(None, 26, 1), dtype=float32), but it was called on an input with incompatible shape (1, 1, 1).\n",
            "WARNING:tensorflow:Model was constructed with shape (None, 26, 1) for input Tensor(\"lstm_2_input:0\", shape=(None, 26, 1), dtype=float32), but it was called on an input with incompatible shape (1, 1, 1).\n",
            "WARNING:tensorflow:Model was constructed with shape (None, 26, 1) for input Tensor(\"lstm_2_input:0\", shape=(None, 26, 1), dtype=float32), but it was called on an input with incompatible shape (1, 1, 1).\n",
            "bojcnlnlwctptg\n",
            "6\n",
            "tf.Tensor([[[6]]], shape=(1, 1, 1), dtype=int32)\n",
            "WARNING:tensorflow:Model was constructed with shape (None, 26, 1) for input Tensor(\"lstm_2_input:0\", shape=(None, 26, 1), dtype=float32), but it was called on an input with incompatible shape (1, 1, 1).\n",
            "WARNING:tensorflow:Model was constructed with shape (None, 26, 1) for input Tensor(\"lstm_2_input:0\", shape=(None, 26, 1), dtype=float32), but it was called on an input with incompatible shape (1, 1, 1).\n",
            "WARNING:tensorflow:Model was constructed with shape (None, 26, 1) for input Tensor(\"lstm_2_input:0\", shape=(None, 26, 1), dtype=float32), but it was called on an input with incompatible shape (1, 1, 1).\n",
            "WARNING:tensorflow:Model was constructed with shape (None, 26, 1) for input Tensor(\"lstm_2_input:0\", shape=(None, 26, 1), dtype=float32), but it was called on an input with incompatible shape (1, 1, 1).\n",
            "WARNING:tensorflow:Model was constructed with shape (None, 26, 1) for input Tensor(\"lstm_2_input:0\", shape=(None, 26, 1), dtype=float32), but it was called on an input with incompatible shape (1, 1, 1).\n",
            "WARNING:tensorflow:Model was constructed with shape (None, 26, 1) for input Tensor(\"lstm_2_input:0\", shape=(None, 26, 1), dtype=float32), but it was called on an input with incompatible shape (1, 1, 1).\n",
            "WARNING:tensorflow:Model was constructed with shape (None, 26, 1) for input Tensor(\"lstm_2_input:0\", shape=(None, 26, 1), dtype=float32), but it was called on an input with incompatible shape (1, 1, 1).\n",
            "WARNING:tensorflow:Model was constructed with shape (None, 26, 1) for input Tensor(\"lstm_2_input:0\", shape=(None, 26, 1), dtype=float32), but it was called on an input with incompatible shape (1, 1, 1).\n",
            "WARNING:tensorflow:Model was constructed with shape (None, 26, 1) for input Tensor(\"lstm_2_input:0\", shape=(None, 26, 1), dtype=float32), but it was called on an input with incompatible shape (1, 1, 1).\n",
            "WARNING:tensorflow:Model was constructed with shape (None, 26, 1) for input Tensor(\"lstm_2_input:0\", shape=(None, 26, 1), dtype=float32), but it was called on an input with incompatible shape (1, 1, 1).\n",
            "WARNING:tensorflow:Model was constructed with shape (None, 26, 1) for input Tensor(\"lstm_2_input:0\", shape=(None, 26, 1), dtype=float32), but it was called on an input with incompatible shape (1, 1, 1).\n",
            "WARNING:tensorflow:Model was constructed with shape (None, 26, 1) for input Tensor(\"lstm_2_input:0\", shape=(None, 26, 1), dtype=float32), but it was called on an input with incompatible shape (1, 1, 1).\n",
            "WARNING:tensorflow:Model was constructed with shape (None, 26, 1) for input Tensor(\"lstm_2_input:0\", shape=(None, 26, 1), dtype=float32), but it was called on an input with incompatible shape (1, 1, 1).\n",
            "WARNING:tensorflow:Model was constructed with shape (None, 26, 1) for input Tensor(\"lstm_2_input:0\", shape=(None, 26, 1), dtype=float32), but it was called on an input with incompatible shape (1, 1, 1).\n",
            "WARNING:tensorflow:Model was constructed with shape (None, 26, 1) for input Tensor(\"lstm_2_input:0\", shape=(None, 26, 1), dtype=float32), but it was called on an input with incompatible shape (1, 1, 1).\n",
            "nytdkogndkyzm\n",
            "3\n",
            "tf.Tensor([[[3]]], shape=(1, 1, 1), dtype=int32)\n",
            "WARNING:tensorflow:Model was constructed with shape (None, 26, 1) for input Tensor(\"lstm_2_input:0\", shape=(None, 26, 1), dtype=float32), but it was called on an input with incompatible shape (1, 1, 1).\n",
            "WARNING:tensorflow:Model was constructed with shape (None, 26, 1) for input Tensor(\"lstm_2_input:0\", shape=(None, 26, 1), dtype=float32), but it was called on an input with incompatible shape (1, 1, 1).\n",
            "WARNING:tensorflow:Model was constructed with shape (None, 26, 1) for input Tensor(\"lstm_2_input:0\", shape=(None, 26, 1), dtype=float32), but it was called on an input with incompatible shape (1, 1, 1).\n",
            "WARNING:tensorflow:Model was constructed with shape (None, 26, 1) for input Tensor(\"lstm_2_input:0\", shape=(None, 26, 1), dtype=float32), but it was called on an input with incompatible shape (1, 1, 1).\n",
            "WARNING:tensorflow:Model was constructed with shape (None, 26, 1) for input Tensor(\"lstm_2_input:0\", shape=(None, 26, 1), dtype=float32), but it was called on an input with incompatible shape (1, 1, 1).\n",
            "WARNING:tensorflow:Model was constructed with shape (None, 26, 1) for input Tensor(\"lstm_2_input:0\", shape=(None, 26, 1), dtype=float32), but it was called on an input with incompatible shape (1, 1, 1).\n",
            "WARNING:tensorflow:Model was constructed with shape (None, 26, 1) for input Tensor(\"lstm_2_input:0\", shape=(None, 26, 1), dtype=float32), but it was called on an input with incompatible shape (1, 1, 1).\n",
            "WARNING:tensorflow:Model was constructed with shape (None, 26, 1) for input Tensor(\"lstm_2_input:0\", shape=(None, 26, 1), dtype=float32), but it was called on an input with incompatible shape (1, 1, 1).\n",
            "WARNING:tensorflow:Model was constructed with shape (None, 26, 1) for input Tensor(\"lstm_2_input:0\", shape=(None, 26, 1), dtype=float32), but it was called on an input with incompatible shape (1, 1, 1).\n",
            "WARNING:tensorflow:Model was constructed with shape (None, 26, 1) for input Tensor(\"lstm_2_input:0\", shape=(None, 26, 1), dtype=float32), but it was called on an input with incompatible shape (1, 1, 1).\n",
            "WARNING:tensorflow:Model was constructed with shape (None, 26, 1) for input Tensor(\"lstm_2_input:0\", shape=(None, 26, 1), dtype=float32), but it was called on an input with incompatible shape (1, 1, 1).\n",
            "WARNING:tensorflow:Model was constructed with shape (None, 26, 1) for input Tensor(\"lstm_2_input:0\", shape=(None, 26, 1), dtype=float32), but it was called on an input with incompatible shape (1, 1, 1).\n",
            "WARNING:tensorflow:Model was constructed with shape (None, 26, 1) for input Tensor(\"lstm_2_input:0\", shape=(None, 26, 1), dtype=float32), but it was called on an input with incompatible shape (1, 1, 1).\n",
            "WARNING:tensorflow:Model was constructed with shape (None, 26, 1) for input Tensor(\"lstm_2_input:0\", shape=(None, 26, 1), dtype=float32), but it was called on an input with incompatible shape (1, 1, 1).\n",
            "WARNING:tensorflow:Model was constructed with shape (None, 26, 1) for input Tensor(\"lstm_2_input:0\", shape=(None, 26, 1), dtype=float32), but it was called on an input with incompatible shape (1, 1, 1).\n",
            "uijohhzfedpjdyyk\n",
            "21\n",
            "tf.Tensor([[[21]]], shape=(1, 1, 1), dtype=int32)\n",
            "WARNING:tensorflow:Model was constructed with shape (None, 26, 1) for input Tensor(\"lstm_2_input:0\", shape=(None, 26, 1), dtype=float32), but it was called on an input with incompatible shape (1, 1, 1).\n",
            "WARNING:tensorflow:Model was constructed with shape (None, 26, 1) for input Tensor(\"lstm_2_input:0\", shape=(None, 26, 1), dtype=float32), but it was called on an input with incompatible shape (1, 1, 1).\n",
            "WARNING:tensorflow:Model was constructed with shape (None, 26, 1) for input Tensor(\"lstm_2_input:0\", shape=(None, 26, 1), dtype=float32), but it was called on an input with incompatible shape (1, 1, 1).\n",
            "WARNING:tensorflow:Model was constructed with shape (None, 26, 1) for input Tensor(\"lstm_2_input:0\", shape=(None, 26, 1), dtype=float32), but it was called on an input with incompatible shape (1, 1, 1).\n",
            "WARNING:tensorflow:Model was constructed with shape (None, 26, 1) for input Tensor(\"lstm_2_input:0\", shape=(None, 26, 1), dtype=float32), but it was called on an input with incompatible shape (1, 1, 1).\n",
            "WARNING:tensorflow:Model was constructed with shape (None, 26, 1) for input Tensor(\"lstm_2_input:0\", shape=(None, 26, 1), dtype=float32), but it was called on an input with incompatible shape (1, 1, 1).\n",
            "WARNING:tensorflow:Model was constructed with shape (None, 26, 1) for input Tensor(\"lstm_2_input:0\", shape=(None, 26, 1), dtype=float32), but it was called on an input with incompatible shape (1, 1, 1).\n",
            "WARNING:tensorflow:Model was constructed with shape (None, 26, 1) for input Tensor(\"lstm_2_input:0\", shape=(None, 26, 1), dtype=float32), but it was called on an input with incompatible shape (1, 1, 1).\n",
            "WARNING:tensorflow:Model was constructed with shape (None, 26, 1) for input Tensor(\"lstm_2_input:0\", shape=(None, 26, 1), dtype=float32), but it was called on an input with incompatible shape (1, 1, 1).\n",
            "WARNING:tensorflow:Model was constructed with shape (None, 26, 1) for input Tensor(\"lstm_2_input:0\", shape=(None, 26, 1), dtype=float32), but it was called on an input with incompatible shape (1, 1, 1).\n",
            "WARNING:tensorflow:Model was constructed with shape (None, 26, 1) for input Tensor(\"lstm_2_input:0\", shape=(None, 26, 1), dtype=float32), but it was called on an input with incompatible shape (1, 1, 1).\n",
            "WARNING:tensorflow:Model was constructed with shape (None, 26, 1) for input Tensor(\"lstm_2_input:0\", shape=(None, 26, 1), dtype=float32), but it was called on an input with incompatible shape (1, 1, 1).\n",
            "WARNING:tensorflow:Model was constructed with shape (None, 26, 1) for input Tensor(\"lstm_2_input:0\", shape=(None, 26, 1), dtype=float32), but it was called on an input with incompatible shape (1, 1, 1).\n",
            "WARNING:tensorflow:Model was constructed with shape (None, 26, 1) for input Tensor(\"lstm_2_input:0\", shape=(None, 26, 1), dtype=float32), but it was called on an input with incompatible shape (1, 1, 1).\n",
            "WARNING:tensorflow:Model was constructed with shape (None, 26, 1) for input Tensor(\"lstm_2_input:0\", shape=(None, 26, 1), dtype=float32), but it was called on an input with incompatible shape (1, 1, 1).\n",
            "xuffuxjzrzeyl\n",
            "6\n",
            "tf.Tensor([[[6]]], shape=(1, 1, 1), dtype=int32)\n",
            "WARNING:tensorflow:Model was constructed with shape (None, 26, 1) for input Tensor(\"lstm_2_input:0\", shape=(None, 26, 1), dtype=float32), but it was called on an input with incompatible shape (1, 1, 1).\n",
            "WARNING:tensorflow:Model was constructed with shape (None, 26, 1) for input Tensor(\"lstm_2_input:0\", shape=(None, 26, 1), dtype=float32), but it was called on an input with incompatible shape (1, 1, 1).\n",
            "WARNING:tensorflow:Model was constructed with shape (None, 26, 1) for input Tensor(\"lstm_2_input:0\", shape=(None, 26, 1), dtype=float32), but it was called on an input with incompatible shape (1, 1, 1).\n",
            "WARNING:tensorflow:Model was constructed with shape (None, 26, 1) for input Tensor(\"lstm_2_input:0\", shape=(None, 26, 1), dtype=float32), but it was called on an input with incompatible shape (1, 1, 1).\n",
            "WARNING:tensorflow:Model was constructed with shape (None, 26, 1) for input Tensor(\"lstm_2_input:0\", shape=(None, 26, 1), dtype=float32), but it was called on an input with incompatible shape (1, 1, 1).\n",
            "WARNING:tensorflow:Model was constructed with shape (None, 26, 1) for input Tensor(\"lstm_2_input:0\", shape=(None, 26, 1), dtype=float32), but it was called on an input with incompatible shape (1, 1, 1).\n",
            "WARNING:tensorflow:Model was constructed with shape (None, 26, 1) for input Tensor(\"lstm_2_input:0\", shape=(None, 26, 1), dtype=float32), but it was called on an input with incompatible shape (1, 1, 1).\n",
            "WARNING:tensorflow:Model was constructed with shape (None, 26, 1) for input Tensor(\"lstm_2_input:0\", shape=(None, 26, 1), dtype=float32), but it was called on an input with incompatible shape (1, 1, 1).\n",
            "WARNING:tensorflow:Model was constructed with shape (None, 26, 1) for input Tensor(\"lstm_2_input:0\", shape=(None, 26, 1), dtype=float32), but it was called on an input with incompatible shape (1, 1, 1).\n",
            "WARNING:tensorflow:Model was constructed with shape (None, 26, 1) for input Tensor(\"lstm_2_input:0\", shape=(None, 26, 1), dtype=float32), but it was called on an input with incompatible shape (1, 1, 1).\n",
            "WARNING:tensorflow:Model was constructed with shape (None, 26, 1) for input Tensor(\"lstm_2_input:0\", shape=(None, 26, 1), dtype=float32), but it was called on an input with incompatible shape (1, 1, 1).\n",
            "WARNING:tensorflow:Model was constructed with shape (None, 26, 1) for input Tensor(\"lstm_2_input:0\", shape=(None, 26, 1), dtype=float32), but it was called on an input with incompatible shape (1, 1, 1).\n",
            "WARNING:tensorflow:Model was constructed with shape (None, 26, 1) for input Tensor(\"lstm_2_input:0\", shape=(None, 26, 1), dtype=float32), but it was called on an input with incompatible shape (1, 1, 1).\n",
            "WARNING:tensorflow:Model was constructed with shape (None, 26, 1) for input Tensor(\"lstm_2_input:0\", shape=(None, 26, 1), dtype=float32), but it was called on an input with incompatible shape (1, 1, 1).\n",
            "WARNING:tensorflow:Model was constructed with shape (None, 26, 1) for input Tensor(\"lstm_2_input:0\", shape=(None, 26, 1), dtype=float32), but it was called on an input with incompatible shape (1, 1, 1).\n",
            "nlsnohjmxfvlneh\n",
            "10\n",
            "tf.Tensor([[[10]]], shape=(1, 1, 1), dtype=int32)\n",
            "WARNING:tensorflow:Model was constructed with shape (None, 26, 1) for input Tensor(\"lstm_2_input:0\", shape=(None, 26, 1), dtype=float32), but it was called on an input with incompatible shape (1, 1, 1).\n",
            "WARNING:tensorflow:Model was constructed with shape (None, 26, 1) for input Tensor(\"lstm_2_input:0\", shape=(None, 26, 1), dtype=float32), but it was called on an input with incompatible shape (1, 1, 1).\n",
            "WARNING:tensorflow:Model was constructed with shape (None, 26, 1) for input Tensor(\"lstm_2_input:0\", shape=(None, 26, 1), dtype=float32), but it was called on an input with incompatible shape (1, 1, 1).\n",
            "WARNING:tensorflow:Model was constructed with shape (None, 26, 1) for input Tensor(\"lstm_2_input:0\", shape=(None, 26, 1), dtype=float32), but it was called on an input with incompatible shape (1, 1, 1).\n",
            "WARNING:tensorflow:Model was constructed with shape (None, 26, 1) for input Tensor(\"lstm_2_input:0\", shape=(None, 26, 1), dtype=float32), but it was called on an input with incompatible shape (1, 1, 1).\n",
            "WARNING:tensorflow:Model was constructed with shape (None, 26, 1) for input Tensor(\"lstm_2_input:0\", shape=(None, 26, 1), dtype=float32), but it was called on an input with incompatible shape (1, 1, 1).\n",
            "WARNING:tensorflow:Model was constructed with shape (None, 26, 1) for input Tensor(\"lstm_2_input:0\", shape=(None, 26, 1), dtype=float32), but it was called on an input with incompatible shape (1, 1, 1).\n",
            "WARNING:tensorflow:Model was constructed with shape (None, 26, 1) for input Tensor(\"lstm_2_input:0\", shape=(None, 26, 1), dtype=float32), but it was called on an input with incompatible shape (1, 1, 1).\n",
            "WARNING:tensorflow:Model was constructed with shape (None, 26, 1) for input Tensor(\"lstm_2_input:0\", shape=(None, 26, 1), dtype=float32), but it was called on an input with incompatible shape (1, 1, 1).\n",
            "WARNING:tensorflow:Model was constructed with shape (None, 26, 1) for input Tensor(\"lstm_2_input:0\", shape=(None, 26, 1), dtype=float32), but it was called on an input with incompatible shape (1, 1, 1).\n",
            "WARNING:tensorflow:Model was constructed with shape (None, 26, 1) for input Tensor(\"lstm_2_input:0\", shape=(None, 26, 1), dtype=float32), but it was called on an input with incompatible shape (1, 1, 1).\n",
            "WARNING:tensorflow:Model was constructed with shape (None, 26, 1) for input Tensor(\"lstm_2_input:0\", shape=(None, 26, 1), dtype=float32), but it was called on an input with incompatible shape (1, 1, 1).\n",
            "WARNING:tensorflow:Model was constructed with shape (None, 26, 1) for input Tensor(\"lstm_2_input:0\", shape=(None, 26, 1), dtype=float32), but it was called on an input with incompatible shape (1, 1, 1).\n",
            "WARNING:tensorflow:Model was constructed with shape (None, 26, 1) for input Tensor(\"lstm_2_input:0\", shape=(None, 26, 1), dtype=float32), but it was called on an input with incompatible shape (1, 1, 1).\n",
            "WARNING:tensorflow:Model was constructed with shape (None, 26, 1) for input Tensor(\"lstm_2_input:0\", shape=(None, 26, 1), dtype=float32), but it was called on an input with incompatible shape (1, 1, 1).\n",
            "lbtyhuovjmivqo\n",
            "25\n",
            "tf.Tensor([[[25]]], shape=(1, 1, 1), dtype=int32)\n",
            "WARNING:tensorflow:Model was constructed with shape (None, 26, 1) for input Tensor(\"lstm_2_input:0\", shape=(None, 26, 1), dtype=float32), but it was called on an input with incompatible shape (1, 1, 1).\n",
            "WARNING:tensorflow:Model was constructed with shape (None, 26, 1) for input Tensor(\"lstm_2_input:0\", shape=(None, 26, 1), dtype=float32), but it was called on an input with incompatible shape (1, 1, 1).\n",
            "WARNING:tensorflow:Model was constructed with shape (None, 26, 1) for input Tensor(\"lstm_2_input:0\", shape=(None, 26, 1), dtype=float32), but it was called on an input with incompatible shape (1, 1, 1).\n",
            "WARNING:tensorflow:Model was constructed with shape (None, 26, 1) for input Tensor(\"lstm_2_input:0\", shape=(None, 26, 1), dtype=float32), but it was called on an input with incompatible shape (1, 1, 1).\n",
            "WARNING:tensorflow:Model was constructed with shape (None, 26, 1) for input Tensor(\"lstm_2_input:0\", shape=(None, 26, 1), dtype=float32), but it was called on an input with incompatible shape (1, 1, 1).\n",
            "WARNING:tensorflow:Model was constructed with shape (None, 26, 1) for input Tensor(\"lstm_2_input:0\", shape=(None, 26, 1), dtype=float32), but it was called on an input with incompatible shape (1, 1, 1).\n",
            "WARNING:tensorflow:Model was constructed with shape (None, 26, 1) for input Tensor(\"lstm_2_input:0\", shape=(None, 26, 1), dtype=float32), but it was called on an input with incompatible shape (1, 1, 1).\n",
            "WARNING:tensorflow:Model was constructed with shape (None, 26, 1) for input Tensor(\"lstm_2_input:0\", shape=(None, 26, 1), dtype=float32), but it was called on an input with incompatible shape (1, 1, 1).\n",
            "WARNING:tensorflow:Model was constructed with shape (None, 26, 1) for input Tensor(\"lstm_2_input:0\", shape=(None, 26, 1), dtype=float32), but it was called on an input with incompatible shape (1, 1, 1).\n",
            "WARNING:tensorflow:Model was constructed with shape (None, 26, 1) for input Tensor(\"lstm_2_input:0\", shape=(None, 26, 1), dtype=float32), but it was called on an input with incompatible shape (1, 1, 1).\n",
            "WARNING:tensorflow:Model was constructed with shape (None, 26, 1) for input Tensor(\"lstm_2_input:0\", shape=(None, 26, 1), dtype=float32), but it was called on an input with incompatible shape (1, 1, 1).\n",
            "WARNING:tensorflow:Model was constructed with shape (None, 26, 1) for input Tensor(\"lstm_2_input:0\", shape=(None, 26, 1), dtype=float32), but it was called on an input with incompatible shape (1, 1, 1).\n",
            "WARNING:tensorflow:Model was constructed with shape (None, 26, 1) for input Tensor(\"lstm_2_input:0\", shape=(None, 26, 1), dtype=float32), but it was called on an input with incompatible shape (1, 1, 1).\n",
            "WARNING:tensorflow:Model was constructed with shape (None, 26, 1) for input Tensor(\"lstm_2_input:0\", shape=(None, 26, 1), dtype=float32), but it was called on an input with incompatible shape (1, 1, 1).\n",
            "WARNING:tensorflow:Model was constructed with shape (None, 26, 1) for input Tensor(\"lstm_2_input:0\", shape=(None, 26, 1), dtype=float32), but it was called on an input with incompatible shape (1, 1, 1).\n",
            "fjmtguomzhdujbu\n"
          ],
          "name": "stdout"
        }
      ]
    },
    {
      "cell_type": "code",
      "metadata": {
        "id": "HogNmMMNNvt2",
        "colab_type": "code",
        "colab": {}
      },
      "source": [
        ""
      ],
      "execution_count": 0,
      "outputs": []
    }
  ]
}