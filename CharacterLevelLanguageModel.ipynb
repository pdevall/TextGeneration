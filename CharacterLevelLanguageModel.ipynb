{
  "nbformat": 4,
  "nbformat_minor": 0,
  "metadata": {
    "colab": {
      "name": "CharacterLevelLanguageModel.ipynb",
      "provenance": [],
      "collapsed_sections": [],
      "toc_visible": true,
      "mount_file_id": "1tA47w2h0hgHgPwE5B_af_0X9xWubidv_",
      "authorship_tag": "ABX9TyNIwMmjJxGPIQCEX8Z+9bhf",
      "include_colab_link": true
    },
    "kernelspec": {
      "name": "python3",
      "display_name": "Python 3"
    }
  },
  "cells": [
    {
      "cell_type": "markdown",
      "metadata": {
        "id": "view-in-github",
        "colab_type": "text"
      },
      "source": [
        "<a href=\"https://colab.research.google.com/github/pdevall/TextGeneration/blob/master/CharacterLevelLanguageModel.ipynb\" target=\"_parent\"><img src=\"https://colab.research.google.com/assets/colab-badge.svg\" alt=\"Open In Colab\"/></a>"
      ]
    },
    {
      "cell_type": "code",
      "metadata": {
        "id": "U8HTSKYnVogJ",
        "colab_type": "code",
        "colab": {}
      },
      "source": [
        "import numpy as np\n",
        "import tensorflow as tf\n",
        "from tensorflow import keras"
      ],
      "execution_count": 0,
      "outputs": []
    },
    {
      "cell_type": "markdown",
      "metadata": {
        "id": "Lrzk9mJUXvgS",
        "colab_type": "text"
      },
      "source": [
        "Load Data using numpy. Get the Max length of the word in the file. The Max length will be used to pad the sequences after tokenization\n",
        "\n"
      ]
    },
    {
      "cell_type": "code",
      "metadata": {
        "id": "n0TXqH7nYDEn",
        "colab_type": "code",
        "colab": {}
      },
      "source": [
        "datasetNPARRAY = np.loadtxt(\"/content/drive/My Drive/Colab Notebooks/CharacterLevelLanguageModel/dinos.txt\", dtype=\"str\")\n",
        "print(datasetNPARRAY)\n",
        "max_length = max(len(x) for x in datasetNPARRAY )\n",
        "print(max_length)"
      ],
      "execution_count": 0,
      "outputs": []
    },
    {
      "cell_type": "markdown",
      "metadata": {
        "id": "kHMc3F1xdvEI",
        "colab_type": "text"
      },
      "source": [
        "Using Keras Tokenizer to tokenize the words loaded from file at the chracter level."
      ]
    },
    {
      "cell_type": "code",
      "metadata": {
        "id": "mpHlOf0IYMOq",
        "colab_type": "code",
        "colab": {}
      },
      "source": [
        "tokenizer = tf.keras.preprocessing.text.Tokenizer(\n",
        "    num_words=len(datasetNPARRAY),\n",
        "    filters='!\"#$%&()*+,-./:;<=>?@[\\\\]^_`{|}~\\t\\n',\n",
        "    lower=True,\n",
        "    char_level=True,\n",
        "    document_count=0\n",
        ")    "
      ],
      "execution_count": 0,
      "outputs": []
    },
    {
      "cell_type": "markdown",
      "metadata": {
        "id": "H70T1Mqwd8JK",
        "colab_type": "text"
      },
      "source": [
        "Tokenizer fit_on_texts will create a vocabulary. texts_to_sequences will generate the char to sequence in the vocabulary."
      ]
    },
    {
      "cell_type": "code",
      "metadata": {
        "id": "2LEIKXdgnVoS",
        "colab_type": "code",
        "colab": {}
      },
      "source": [
        "tokenizer.fit_on_texts(datasetNPARRAY)\n",
        "sequences = tokenizer.texts_to_sequences(datasetNPARRAY)\n",
        "vocab_size = len(tokenizer.word_index) + 1\n",
        "print(tokenizer.word_index)\n",
        "print(vocab_size)\n"
      ],
      "execution_count": 0,
      "outputs": []
    },
    {
      "cell_type": "markdown",
      "metadata": {
        "id": "UU2NEd_lkqVO",
        "colab_type": "text"
      },
      "source": [
        "Shuffle input, shift 1 place right for Y_sequences."
      ]
    },
    {
      "cell_type": "code",
      "metadata": {
        "id": "ZkpEgx1JrzYr",
        "colab_type": "code",
        "colab": {}
      },
      "source": [
        "sequences = keras.preprocessing.sequence.pad_sequences(sequences, maxlen=max_length,  padding='post', value=0)\n",
        "x_sequences = np.reshape(sequences, (sequences.shape[0], sequences.shape[1]))\n",
        "np.random.shuffle(x_sequences)\n",
        "y_sequences = np.reshape(sequences, (x_sequences.shape[0], x_sequences.shape[1]))\n",
        "y_sequences = np.roll(y_sequences, 1, axis=1)\n",
        "y_sequences[:,0] = 0\n",
        "print(x_sequences.shape)\n",
        "print(y_sequences)"
      ],
      "execution_count": 0,
      "outputs": []
    },
    {
      "cell_type": "code",
      "metadata": {
        "id": "qsvNfLGmvk7I",
        "colab_type": "code",
        "colab": {}
      },
      "source": [
        "def build_model(vocab_size, embedding_dim, rnn_units, input_length):\n",
        "  model = keras.models.Sequential()\n",
        "  model.add(keras.layers.Embedding(vocab_size, embedding_dim, input_length=input_length))\n",
        "  #model.add(keras.layers.LSTM(rnn_units, return_sequences=True, recurrent_initializer='glorot_uniform', input_shape=(x_sequences.shape[1], x_sequences.shape[2])))\n",
        "  model.add(keras.layers.LSTM(rnn_units, return_sequences=True, recurrent_initializer='glorot_uniform'))\n",
        "  model.add(keras.layers.Dense(vocab_size,  activation='softmax'))\n",
        "  return model"
      ],
      "execution_count": 0,
      "outputs": []
    },
    {
      "cell_type": "code",
      "metadata": {
        "id": "WkCHV0-8I5lh",
        "colab_type": "code",
        "colab": {}
      },
      "source": [
        "model = build_model(vocab_size, embedding_dim=vocab_size, rnn_units=128, input_length=max_length)\n",
        "model.summary()"
      ],
      "execution_count": 0,
      "outputs": []
    },
    {
      "cell_type": "code",
      "metadata": {
        "id": "TFk-Qfo4JCYk",
        "colab_type": "code",
        "colab": {}
      },
      "source": [
        "def loss(labels, logits):\n",
        "  return tf.keras.losses.sparse_categorical_crossentropy(labels, logits, from_logits=True)"
      ],
      "execution_count": 0,
      "outputs": []
    },
    {
      "cell_type": "code",
      "metadata": {
        "id": "cV3q0CXPLNDY",
        "colab_type": "code",
        "colab": {}
      },
      "source": [
        "model.compile(optimizer='adam', loss=loss)"
      ],
      "execution_count": 0,
      "outputs": []
    },
    {
      "cell_type": "code",
      "metadata": {
        "id": "aWWnyuLuLkFp",
        "colab_type": "code",
        "colab": {}
      },
      "source": [
        "def generate_name(model):\n",
        "  name = []\n",
        "  sequence = np.random.randint(1, 26)\n",
        "  x = np.zeros((1, max_length))\n",
        "  x[0][0] = sequence\n",
        "  temperature  = 1.0\n",
        "  for i in range(13):\n",
        "    predictions = model.predict(x)\n",
        "    predictions = tf.squeeze(predictions, 0)\n",
        "    predictions = predictions / temperature\n",
        "    predictions = tf.random.categorical(predictions, num_samples=1)\n",
        "    index = predictions[-1,0].numpy()\n",
        "    for char, char_index in tokenizer.word_index.items(): \n",
        "      if index == char_index:\n",
        "        x[0][i+1]=index\n",
        "        name.append(char)\n",
        "  print(''.join(name))"
      ],
      "execution_count": 0,
      "outputs": []
    },
    {
      "cell_type": "code",
      "metadata": {
        "id": "VV4NVY4IRgJN",
        "colab_type": "code",
        "colab": {}
      },
      "source": [
        "def generate_name_loop(epoch, _):\n",
        "  if epoch % 25 == 0:        \n",
        "    print('Names generated after epoch %d:' % epoch)\n",
        "    for i in range(3):\n",
        "      generate_name(model)\n",
        "        \n",
        "    print()\n",
        "\n",
        "name_generator = keras.callbacks.LambdaCallback(on_epoch_end = generate_name_loop)\n",
        "\n",
        "model.fit(x_sequences, y_sequences, epochs=100, callbacks=[name_generator], verbose=1)\n"
      ],
      "execution_count": 0,
      "outputs": []
    },
    {
      "cell_type": "code",
      "metadata": {
        "id": "HogNmMMNNvt2",
        "colab_type": "code",
        "colab": {}
      },
      "source": [
        ""
      ],
      "execution_count": 0,
      "outputs": []
    }
  ]
}